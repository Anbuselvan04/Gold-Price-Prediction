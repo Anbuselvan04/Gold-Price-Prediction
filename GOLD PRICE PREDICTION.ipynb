{
 "cells": [
  {
   "cell_type": "markdown",
   "metadata": {
    "id": "MJBvmqd5Oyzf"
   },
   "source": [
    "<div style=\"border-radius:10px;\n",
    "            border : black solid;\n",
    "            background-color: ##FFFFFF;\n",
    "            font-size:180%;\n",
    "            text-align: left\">\n",
    "\n",
    "<h1 style='; border:0; border-radius: 10px; text-shadow: 1px 1px black; font-weight: bold; color:#AB8111'><center> <b>                GOLD PRICE PREDICTION </center></h1>"
   ]
  },
  {
   "cell_type": "markdown",
   "metadata": {
    "id": "S6MPskNpPoCh"
   },
   "source": [
    "<a id=\"2\"></a>\n",
    "\n",
    "## <b>1 <span style='color:#AB8111'>|</span> IMPORTING NECESSARY LIBRARIES</b>"
   ]
  },
  {
   "cell_type": "code",
   "execution_count": 14,
   "metadata": {},
   "outputs": [
    {
     "name": "stdout",
     "output_type": "stream",
     "text": [
      "Defaulting to user installation because normal site-packages is not writeable\n",
      "Requirement already satisfied: plotly in ./.local/lib/python3.10/site-packages (5.17.0)\n",
      "Requirement already satisfied: packaging in /usr/local/lib/python3.10/dist-packages (from plotly) (23.0)\n",
      "Requirement already satisfied: tenacity>=6.2.0 in ./.local/lib/python3.10/site-packages (from plotly) (8.2.3)\n",
      "\n",
      "\u001b[1m[\u001b[0m\u001b[34;49mnotice\u001b[0m\u001b[1;39;49m]\u001b[0m\u001b[39;49m A new release of pip is available: \u001b[0m\u001b[31;49m23.0\u001b[0m\u001b[39;49m -> \u001b[0m\u001b[32;49m23.3.1\u001b[0m\n",
      "\u001b[1m[\u001b[0m\u001b[34;49mnotice\u001b[0m\u001b[1;39;49m]\u001b[0m\u001b[39;49m To update, run: \u001b[0m\u001b[32;49mpython3 -m pip install --upgrade pip\u001b[0m\n"
     ]
    }
   ],
   "source": [
    "!pip install plotly"
   ]
  },
  {
   "cell_type": "code",
   "execution_count": 15,
   "metadata": {
    "id": "YIxa_TWvQSEg"
   },
   "outputs": [],
   "source": [
    "import numpy as np\n",
    "import pandas as pd\n",
    "import seaborn as sns\n",
    "import matplotlib.pyplot as plt\n",
    "import plotly.express as px\n",
    "from plotly import figure_factory as figfac\n",
    "from termcolor import colored\n",
    "\n",
    "from tensorflow.keras.models import Sequential\n",
    "from tensorflow.keras.layers import Dense, Dropout,LSTM\n",
    "from sklearn.preprocessing import MinMaxScaler, StandardScaler\n",
    "import math\n",
    "from sklearn.metrics import mean_squared_error\n",
    "# !pip install keras-tuner --upgrade\n",
    "# from kerastuner.engine.hyperparameters import HyperParameters\n",
    "from tensorflow import keras\n",
    "from tensorflow.keras import layers\n",
    "# from kerastuner.tuners import RandomSearch\n",
    "\n",
    "from sklearn.metrics import mean_absolute_error, mean_squared_error, r2_score"
   ]
  },
  {
   "cell_type": "markdown",
   "metadata": {
    "id": "wJ7-Gl7hQh03"
   },
   "source": [
    "<a id=\"3\"></a>\n",
    "\n",
    "## <b>2 <span style='color:#AB8111'>|</span> LOAD DATASET</b>"
   ]
  },
  {
   "cell_type": "code",
   "execution_count": 53,
   "metadata": {
    "colab": {
     "base_uri": "https://localhost:8080/",
     "height": 397
    },
    "id": "6rrh_rDnQuL6",
    "outputId": "cfe9ba56-7410-4b6e-b6d8-90a2ac36309a"
   },
   "outputs": [
    {
     "data": {
      "text/html": [
       "<div>\n",
       "<style scoped>\n",
       "    .dataframe tbody tr th:only-of-type {\n",
       "        vertical-align: middle;\n",
       "    }\n",
       "\n",
       "    .dataframe tbody tr th {\n",
       "        vertical-align: top;\n",
       "    }\n",
       "\n",
       "    .dataframe thead th {\n",
       "        text-align: right;\n",
       "    }\n",
       "</style>\n",
       "<table border=\"1\" class=\"dataframe\">\n",
       "  <thead>\n",
       "    <tr style=\"text-align: right;\">\n",
       "      <th></th>\n",
       "      <th>Date</th>\n",
       "      <th>SPX</th>\n",
       "      <th>GLD</th>\n",
       "      <th>USO</th>\n",
       "      <th>SLV</th>\n",
       "      <th>EUR/USD</th>\n",
       "    </tr>\n",
       "  </thead>\n",
       "  <tbody>\n",
       "    <tr>\n",
       "      <th>0</th>\n",
       "      <td>1/2/2008</td>\n",
       "      <td>1447.160034</td>\n",
       "      <td>84.860001</td>\n",
       "      <td>78.470001</td>\n",
       "      <td>15.1800</td>\n",
       "      <td>1.471692</td>\n",
       "    </tr>\n",
       "    <tr>\n",
       "      <th>1</th>\n",
       "      <td>1/3/2008</td>\n",
       "      <td>1447.160034</td>\n",
       "      <td>85.570000</td>\n",
       "      <td>78.370003</td>\n",
       "      <td>15.2850</td>\n",
       "      <td>1.474491</td>\n",
       "    </tr>\n",
       "    <tr>\n",
       "      <th>2</th>\n",
       "      <td>1/4/2008</td>\n",
       "      <td>1411.630005</td>\n",
       "      <td>85.129997</td>\n",
       "      <td>77.309998</td>\n",
       "      <td>15.1670</td>\n",
       "      <td>1.475492</td>\n",
       "    </tr>\n",
       "    <tr>\n",
       "      <th>3</th>\n",
       "      <td>1/7/2008</td>\n",
       "      <td>1416.180054</td>\n",
       "      <td>84.769997</td>\n",
       "      <td>75.500000</td>\n",
       "      <td>15.0530</td>\n",
       "      <td>1.468299</td>\n",
       "    </tr>\n",
       "    <tr>\n",
       "      <th>4</th>\n",
       "      <td>1/8/2008</td>\n",
       "      <td>1390.189941</td>\n",
       "      <td>86.779999</td>\n",
       "      <td>76.059998</td>\n",
       "      <td>15.5900</td>\n",
       "      <td>1.557099</td>\n",
       "    </tr>\n",
       "    <tr>\n",
       "      <th>...</th>\n",
       "      <td>...</td>\n",
       "      <td>...</td>\n",
       "      <td>...</td>\n",
       "      <td>...</td>\n",
       "      <td>...</td>\n",
       "      <td>...</td>\n",
       "    </tr>\n",
       "    <tr>\n",
       "      <th>2285</th>\n",
       "      <td>5/8/2018</td>\n",
       "      <td>2671.919922</td>\n",
       "      <td>124.589996</td>\n",
       "      <td>14.060000</td>\n",
       "      <td>15.5100</td>\n",
       "      <td>1.186789</td>\n",
       "    </tr>\n",
       "    <tr>\n",
       "      <th>2286</th>\n",
       "      <td>5/9/2018</td>\n",
       "      <td>2697.790039</td>\n",
       "      <td>124.330002</td>\n",
       "      <td>14.370000</td>\n",
       "      <td>15.5300</td>\n",
       "      <td>1.184722</td>\n",
       "    </tr>\n",
       "    <tr>\n",
       "      <th>2287</th>\n",
       "      <td>5/10/2018</td>\n",
       "      <td>2723.070068</td>\n",
       "      <td>125.180000</td>\n",
       "      <td>14.410000</td>\n",
       "      <td>15.7400</td>\n",
       "      <td>1.191753</td>\n",
       "    </tr>\n",
       "    <tr>\n",
       "      <th>2288</th>\n",
       "      <td>5/14/2018</td>\n",
       "      <td>2730.129883</td>\n",
       "      <td>124.489998</td>\n",
       "      <td>14.380000</td>\n",
       "      <td>15.5600</td>\n",
       "      <td>1.193118</td>\n",
       "    </tr>\n",
       "    <tr>\n",
       "      <th>2289</th>\n",
       "      <td>5/16/2018</td>\n",
       "      <td>2725.780029</td>\n",
       "      <td>122.543800</td>\n",
       "      <td>14.405800</td>\n",
       "      <td>15.4542</td>\n",
       "      <td>1.182033</td>\n",
       "    </tr>\n",
       "  </tbody>\n",
       "</table>\n",
       "<p>2290 rows × 6 columns</p>\n",
       "</div>"
      ],
      "text/plain": [
       "           Date          SPX         GLD        USO      SLV   EUR/USD\n",
       "0      1/2/2008  1447.160034   84.860001  78.470001  15.1800  1.471692\n",
       "1      1/3/2008  1447.160034   85.570000  78.370003  15.2850  1.474491\n",
       "2      1/4/2008  1411.630005   85.129997  77.309998  15.1670  1.475492\n",
       "3      1/7/2008  1416.180054   84.769997  75.500000  15.0530  1.468299\n",
       "4      1/8/2008  1390.189941   86.779999  76.059998  15.5900  1.557099\n",
       "...         ...          ...         ...        ...      ...       ...\n",
       "2285   5/8/2018  2671.919922  124.589996  14.060000  15.5100  1.186789\n",
       "2286   5/9/2018  2697.790039  124.330002  14.370000  15.5300  1.184722\n",
       "2287  5/10/2018  2723.070068  125.180000  14.410000  15.7400  1.191753\n",
       "2288  5/14/2018  2730.129883  124.489998  14.380000  15.5600  1.193118\n",
       "2289  5/16/2018  2725.780029  122.543800  14.405800  15.4542  1.182033\n",
       "\n",
       "[2290 rows x 6 columns]"
      ]
     },
     "execution_count": 53,
     "metadata": {},
     "output_type": "execute_result"
    }
   ],
   "source": [
    "df = pd.read_csv(\"gold_old.csv\")\n",
    "df"
   ]
  },
  {
   "cell_type": "markdown",
   "metadata": {
    "id": "4DQ_R6rQQo18"
   },
   "source": [
    "<a id=\"4.1\"></a>\n",
    "\n",
    "## <b>3 <span style='color:#AB8111'>|</span> Basic information about dataset</b>"
   ]
  },
  {
   "cell_type": "code",
   "execution_count": 17,
   "metadata": {
    "colab": {
     "base_uri": "https://localhost:8080/"
    },
    "id": "HBsrg2SeQx3m",
    "outputId": "be76ebbd-f007-45c4-de75-b0512c403309"
   },
   "outputs": [
    {
     "name": "stdout",
     "output_type": "stream",
     "text": [
      "<class 'pandas.core.frame.DataFrame'>\n",
      "RangeIndex: 2290 entries, 0 to 2289\n",
      "Data columns (total 6 columns):\n",
      " #   Column   Non-Null Count  Dtype  \n",
      "---  ------   --------------  -----  \n",
      " 0   Date     2290 non-null   object \n",
      " 1   SPX      2290 non-null   float64\n",
      " 2   GLD      2290 non-null   float64\n",
      " 3   USO      2290 non-null   float64\n",
      " 4   SLV      2290 non-null   float64\n",
      " 5   EUR/USD  2290 non-null   float64\n",
      "dtypes: float64(5), object(1)\n",
      "memory usage: 107.5+ KB\n"
     ]
    }
   ],
   "source": [
    "df.info()"
   ]
  },
  {
   "cell_type": "code",
   "execution_count": 18,
   "metadata": {
    "id": "XvYxg1cFXz62"
   },
   "outputs": [],
   "source": [
    "# df.drop(['Volume', 'Currency'], axis=1, inplace=True)"
   ]
  },
  {
   "cell_type": "code",
   "execution_count": 19,
   "metadata": {
    "colab": {
     "base_uri": "https://localhost:8080/"
    },
    "id": "O6p8YdVuRGls",
    "outputId": "1aa815ca-e573-4ea9-a2dc-9e949f7464cb"
   },
   "outputs": [
    {
     "data": {
      "text/plain": [
       "(2290, 6)"
      ]
     },
     "execution_count": 19,
     "metadata": {},
     "output_type": "execute_result"
    }
   ],
   "source": [
    "df.shape"
   ]
  },
  {
   "cell_type": "code",
   "execution_count": 20,
   "metadata": {
    "colab": {
     "base_uri": "https://localhost:8080/",
     "height": 296
    },
    "id": "CAqfbiOERNNE",
    "outputId": "0829b4a7-c0fb-49b6-af9e-22de5cca8b39"
   },
   "outputs": [
    {
     "data": {
      "text/html": [
       "<style type=\"text/css\">\n",
       "#T_34005_row0_col0, #T_34005_row1_col1, #T_34005_row2_col2, #T_34005_row3_col3, #T_34005_row4_col4 {\n",
       "  background-color: #ffc77f;\n",
       "  color: #000000;\n",
       "}\n",
       "#T_34005_row0_col1 {\n",
       "  background-color: #3e2719;\n",
       "  color: #f1f1f1;\n",
       "}\n",
       "#T_34005_row0_col2, #T_34005_row0_col3, #T_34005_row0_col4, #T_34005_row2_col1, #T_34005_row4_col0 {\n",
       "  background-color: #000000;\n",
       "  color: #f1f1f1;\n",
       "}\n",
       "#T_34005_row1_col0 {\n",
       "  background-color: #885637;\n",
       "  color: #f1f1f1;\n",
       "}\n",
       "#T_34005_row1_col2 {\n",
       "  background-color: #503320;\n",
       "  color: #f1f1f1;\n",
       "}\n",
       "#T_34005_row1_col3, #T_34005_row2_col4 {\n",
       "  background-color: #ffb372;\n",
       "  color: #000000;\n",
       "}\n",
       "#T_34005_row1_col4 {\n",
       "  background-color: #7a4d31;\n",
       "  color: #f1f1f1;\n",
       "}\n",
       "#T_34005_row2_col0 {\n",
       "  background-color: #0f0906;\n",
       "  color: #f1f1f1;\n",
       "}\n",
       "#T_34005_row2_col3 {\n",
       "  background-color: #6d452c;\n",
       "  color: #f1f1f1;\n",
       "}\n",
       "#T_34005_row3_col0 {\n",
       "  background-color: #4a2f1e;\n",
       "  color: #f1f1f1;\n",
       "}\n",
       "#T_34005_row3_col1 {\n",
       "  background-color: #ffb171;\n",
       "  color: #000000;\n",
       "}\n",
       "#T_34005_row3_col2 {\n",
       "  background-color: #975f3d;\n",
       "  color: #f1f1f1;\n",
       "}\n",
       "#T_34005_row3_col4 {\n",
       "  background-color: #bc774c;\n",
       "  color: #f1f1f1;\n",
       "}\n",
       "#T_34005_row4_col1 {\n",
       "  background-color: #2a1b11;\n",
       "  color: #f1f1f1;\n",
       "}\n",
       "#T_34005_row4_col2 {\n",
       "  background-color: #ffb271;\n",
       "  color: #000000;\n",
       "}\n",
       "#T_34005_row4_col3 {\n",
       "  background-color: #935d3b;\n",
       "  color: #f1f1f1;\n",
       "}\n",
       "</style>\n",
       "<table id=\"T_34005\">\n",
       "  <thead>\n",
       "    <tr>\n",
       "      <th class=\"blank level0\" >&nbsp;</th>\n",
       "      <th id=\"T_34005_level0_col0\" class=\"col_heading level0 col0\" >SPX</th>\n",
       "      <th id=\"T_34005_level0_col1\" class=\"col_heading level0 col1\" >GLD</th>\n",
       "      <th id=\"T_34005_level0_col2\" class=\"col_heading level0 col2\" >USO</th>\n",
       "      <th id=\"T_34005_level0_col3\" class=\"col_heading level0 col3\" >SLV</th>\n",
       "      <th id=\"T_34005_level0_col4\" class=\"col_heading level0 col4\" >EUR/USD</th>\n",
       "    </tr>\n",
       "  </thead>\n",
       "  <tbody>\n",
       "    <tr>\n",
       "      <th id=\"T_34005_level0_row0\" class=\"row_heading level0 row0\" >SPX</th>\n",
       "      <td id=\"T_34005_row0_col0\" class=\"data row0 col0\" >1.000000</td>\n",
       "      <td id=\"T_34005_row0_col1\" class=\"data row0 col1\" >0.049345</td>\n",
       "      <td id=\"T_34005_row0_col2\" class=\"data row0 col2\" >-0.591573</td>\n",
       "      <td id=\"T_34005_row0_col3\" class=\"data row0 col3\" >-0.274055</td>\n",
       "      <td id=\"T_34005_row0_col4\" class=\"data row0 col4\" >-0.672017</td>\n",
       "    </tr>\n",
       "    <tr>\n",
       "      <th id=\"T_34005_level0_row1\" class=\"row_heading level0 row1\" >GLD</th>\n",
       "      <td id=\"T_34005_row1_col0\" class=\"data row1 col0\" >0.049345</td>\n",
       "      <td id=\"T_34005_row1_col1\" class=\"data row1 col1\" >1.000000</td>\n",
       "      <td id=\"T_34005_row1_col2\" class=\"data row1 col2\" >-0.186360</td>\n",
       "      <td id=\"T_34005_row1_col3\" class=\"data row1 col3\" >0.866632</td>\n",
       "      <td id=\"T_34005_row1_col4\" class=\"data row1 col4\" >-0.024375</td>\n",
       "    </tr>\n",
       "    <tr>\n",
       "      <th id=\"T_34005_level0_row2\" class=\"row_heading level0 row2\" >USO</th>\n",
       "      <td id=\"T_34005_row2_col0\" class=\"data row2 col0\" >-0.591573</td>\n",
       "      <td id=\"T_34005_row2_col1\" class=\"data row2 col1\" >-0.186360</td>\n",
       "      <td id=\"T_34005_row2_col2\" class=\"data row2 col2\" >1.000000</td>\n",
       "      <td id=\"T_34005_row2_col3\" class=\"data row2 col3\" >0.167547</td>\n",
       "      <td id=\"T_34005_row2_col4\" class=\"data row2 col4\" >0.829317</td>\n",
       "    </tr>\n",
       "    <tr>\n",
       "      <th id=\"T_34005_level0_row3\" class=\"row_heading level0 row3\" >SLV</th>\n",
       "      <td id=\"T_34005_row3_col0\" class=\"data row3 col0\" >-0.274055</td>\n",
       "      <td id=\"T_34005_row3_col1\" class=\"data row3 col1\" >0.866632</td>\n",
       "      <td id=\"T_34005_row3_col2\" class=\"data row3 col2\" >0.167547</td>\n",
       "      <td id=\"T_34005_row3_col3\" class=\"data row3 col3\" >1.000000</td>\n",
       "      <td id=\"T_34005_row3_col4\" class=\"data row3 col4\" >0.321631</td>\n",
       "    </tr>\n",
       "    <tr>\n",
       "      <th id=\"T_34005_level0_row4\" class=\"row_heading level0 row4\" >EUR/USD</th>\n",
       "      <td id=\"T_34005_row4_col0\" class=\"data row4 col0\" >-0.672017</td>\n",
       "      <td id=\"T_34005_row4_col1\" class=\"data row4 col1\" >-0.024375</td>\n",
       "      <td id=\"T_34005_row4_col2\" class=\"data row4 col2\" >0.829317</td>\n",
       "      <td id=\"T_34005_row4_col3\" class=\"data row4 col3\" >0.321631</td>\n",
       "      <td id=\"T_34005_row4_col4\" class=\"data row4 col4\" >1.000000</td>\n",
       "    </tr>\n",
       "  </tbody>\n",
       "</table>\n"
      ],
      "text/plain": [
       "<pandas.io.formats.style.Styler at 0x3ff470a37c0>"
      ]
     },
     "execution_count": 20,
     "metadata": {},
     "output_type": "execute_result"
    }
   ],
   "source": [
    "corr = df.corr()\n",
    "corr.style.background_gradient(cmap = \"copper\")"
   ]
  },
  {
   "cell_type": "code",
   "execution_count": 21,
   "metadata": {
    "colab": {
     "base_uri": "https://localhost:8080/",
     "height": 424
    },
    "id": "IFmIsk9DY-_o",
    "outputId": "0c035b1a-4df8-43ac-e59c-5a54424afc66"
   },
   "outputs": [
    {
     "data": {
      "text/html": [
       "<div>\n",
       "<style scoped>\n",
       "    .dataframe tbody tr th:only-of-type {\n",
       "        vertical-align: middle;\n",
       "    }\n",
       "\n",
       "    .dataframe tbody tr th {\n",
       "        vertical-align: top;\n",
       "    }\n",
       "\n",
       "    .dataframe thead th {\n",
       "        text-align: right;\n",
       "    }\n",
       "</style>\n",
       "<table border=\"1\" class=\"dataframe\">\n",
       "  <thead>\n",
       "    <tr style=\"text-align: right;\">\n",
       "      <th></th>\n",
       "      <th>Date</th>\n",
       "      <th>SPX</th>\n",
       "      <th>GLD</th>\n",
       "      <th>USO</th>\n",
       "      <th>SLV</th>\n",
       "      <th>EUR/USD</th>\n",
       "    </tr>\n",
       "  </thead>\n",
       "  <tbody>\n",
       "    <tr>\n",
       "      <th>0</th>\n",
       "      <td>1/2/2008</td>\n",
       "      <td>1447.160034</td>\n",
       "      <td>84.860001</td>\n",
       "      <td>78.470001</td>\n",
       "      <td>15.1800</td>\n",
       "      <td>1.471692</td>\n",
       "    </tr>\n",
       "    <tr>\n",
       "      <th>1</th>\n",
       "      <td>1/3/2008</td>\n",
       "      <td>1447.160034</td>\n",
       "      <td>85.570000</td>\n",
       "      <td>78.370003</td>\n",
       "      <td>15.2850</td>\n",
       "      <td>1.474491</td>\n",
       "    </tr>\n",
       "    <tr>\n",
       "      <th>2</th>\n",
       "      <td>1/4/2008</td>\n",
       "      <td>1411.630005</td>\n",
       "      <td>85.129997</td>\n",
       "      <td>77.309998</td>\n",
       "      <td>15.1670</td>\n",
       "      <td>1.475492</td>\n",
       "    </tr>\n",
       "    <tr>\n",
       "      <th>3</th>\n",
       "      <td>1/7/2008</td>\n",
       "      <td>1416.180054</td>\n",
       "      <td>84.769997</td>\n",
       "      <td>75.500000</td>\n",
       "      <td>15.0530</td>\n",
       "      <td>1.468299</td>\n",
       "    </tr>\n",
       "    <tr>\n",
       "      <th>4</th>\n",
       "      <td>1/8/2008</td>\n",
       "      <td>1390.189941</td>\n",
       "      <td>86.779999</td>\n",
       "      <td>76.059998</td>\n",
       "      <td>15.5900</td>\n",
       "      <td>1.557099</td>\n",
       "    </tr>\n",
       "    <tr>\n",
       "      <th>...</th>\n",
       "      <td>...</td>\n",
       "      <td>...</td>\n",
       "      <td>...</td>\n",
       "      <td>...</td>\n",
       "      <td>...</td>\n",
       "      <td>...</td>\n",
       "    </tr>\n",
       "    <tr>\n",
       "      <th>2285</th>\n",
       "      <td>5/8/2018</td>\n",
       "      <td>2671.919922</td>\n",
       "      <td>124.589996</td>\n",
       "      <td>14.060000</td>\n",
       "      <td>15.5100</td>\n",
       "      <td>1.186789</td>\n",
       "    </tr>\n",
       "    <tr>\n",
       "      <th>2286</th>\n",
       "      <td>5/9/2018</td>\n",
       "      <td>2697.790039</td>\n",
       "      <td>124.330002</td>\n",
       "      <td>14.370000</td>\n",
       "      <td>15.5300</td>\n",
       "      <td>1.184722</td>\n",
       "    </tr>\n",
       "    <tr>\n",
       "      <th>2287</th>\n",
       "      <td>5/10/2018</td>\n",
       "      <td>2723.070068</td>\n",
       "      <td>125.180000</td>\n",
       "      <td>14.410000</td>\n",
       "      <td>15.7400</td>\n",
       "      <td>1.191753</td>\n",
       "    </tr>\n",
       "    <tr>\n",
       "      <th>2288</th>\n",
       "      <td>5/14/2018</td>\n",
       "      <td>2730.129883</td>\n",
       "      <td>124.489998</td>\n",
       "      <td>14.380000</td>\n",
       "      <td>15.5600</td>\n",
       "      <td>1.193118</td>\n",
       "    </tr>\n",
       "    <tr>\n",
       "      <th>2289</th>\n",
       "      <td>5/16/2018</td>\n",
       "      <td>2725.780029</td>\n",
       "      <td>122.543800</td>\n",
       "      <td>14.405800</td>\n",
       "      <td>15.4542</td>\n",
       "      <td>1.182033</td>\n",
       "    </tr>\n",
       "  </tbody>\n",
       "</table>\n",
       "<p>2290 rows × 6 columns</p>\n",
       "</div>"
      ],
      "text/plain": [
       "           Date          SPX         GLD        USO      SLV   EUR/USD\n",
       "0      1/2/2008  1447.160034   84.860001  78.470001  15.1800  1.471692\n",
       "1      1/3/2008  1447.160034   85.570000  78.370003  15.2850  1.474491\n",
       "2      1/4/2008  1411.630005   85.129997  77.309998  15.1670  1.475492\n",
       "3      1/7/2008  1416.180054   84.769997  75.500000  15.0530  1.468299\n",
       "4      1/8/2008  1390.189941   86.779999  76.059998  15.5900  1.557099\n",
       "...         ...          ...         ...        ...      ...       ...\n",
       "2285   5/8/2018  2671.919922  124.589996  14.060000  15.5100  1.186789\n",
       "2286   5/9/2018  2697.790039  124.330002  14.370000  15.5300  1.184722\n",
       "2287  5/10/2018  2723.070068  125.180000  14.410000  15.7400  1.191753\n",
       "2288  5/14/2018  2730.129883  124.489998  14.380000  15.5600  1.193118\n",
       "2289  5/16/2018  2725.780029  122.543800  14.405800  15.4542  1.182033\n",
       "\n",
       "[2290 rows x 6 columns]"
      ]
     },
     "execution_count": 21,
     "metadata": {},
     "output_type": "execute_result"
    }
   ],
   "source": [
    "df"
   ]
  },
  {
   "cell_type": "code",
   "execution_count": 22,
   "metadata": {
    "colab": {
     "base_uri": "https://localhost:8080/",
     "height": 206
    },
    "id": "729Lu_JhZLXG",
    "outputId": "0e55b6f4-5af0-4865-d4e8-5bc71322aa1b"
   },
   "outputs": [
    {
     "data": {
      "text/html": [
       "<div>\n",
       "<style scoped>\n",
       "    .dataframe tbody tr th:only-of-type {\n",
       "        vertical-align: middle;\n",
       "    }\n",
       "\n",
       "    .dataframe tbody tr th {\n",
       "        vertical-align: top;\n",
       "    }\n",
       "\n",
       "    .dataframe thead th {\n",
       "        text-align: right;\n",
       "    }\n",
       "</style>\n",
       "<table border=\"1\" class=\"dataframe\">\n",
       "  <thead>\n",
       "    <tr style=\"text-align: right;\">\n",
       "      <th></th>\n",
       "      <th>Date</th>\n",
       "      <th>SPX</th>\n",
       "      <th>GLD</th>\n",
       "      <th>USO</th>\n",
       "      <th>SLV</th>\n",
       "      <th>EUR/USD</th>\n",
       "    </tr>\n",
       "  </thead>\n",
       "  <tbody>\n",
       "    <tr>\n",
       "      <th>0</th>\n",
       "      <td>1/2/2008</td>\n",
       "      <td>1447.160034</td>\n",
       "      <td>84.860001</td>\n",
       "      <td>78.470001</td>\n",
       "      <td>15.180</td>\n",
       "      <td>1.471692</td>\n",
       "    </tr>\n",
       "    <tr>\n",
       "      <th>1</th>\n",
       "      <td>1/3/2008</td>\n",
       "      <td>1447.160034</td>\n",
       "      <td>85.570000</td>\n",
       "      <td>78.370003</td>\n",
       "      <td>15.285</td>\n",
       "      <td>1.474491</td>\n",
       "    </tr>\n",
       "    <tr>\n",
       "      <th>2</th>\n",
       "      <td>1/4/2008</td>\n",
       "      <td>1411.630005</td>\n",
       "      <td>85.129997</td>\n",
       "      <td>77.309998</td>\n",
       "      <td>15.167</td>\n",
       "      <td>1.475492</td>\n",
       "    </tr>\n",
       "    <tr>\n",
       "      <th>3</th>\n",
       "      <td>1/7/2008</td>\n",
       "      <td>1416.180054</td>\n",
       "      <td>84.769997</td>\n",
       "      <td>75.500000</td>\n",
       "      <td>15.053</td>\n",
       "      <td>1.468299</td>\n",
       "    </tr>\n",
       "    <tr>\n",
       "      <th>4</th>\n",
       "      <td>1/8/2008</td>\n",
       "      <td>1390.189941</td>\n",
       "      <td>86.779999</td>\n",
       "      <td>76.059998</td>\n",
       "      <td>15.590</td>\n",
       "      <td>1.557099</td>\n",
       "    </tr>\n",
       "  </tbody>\n",
       "</table>\n",
       "</div>"
      ],
      "text/plain": [
       "       Date          SPX        GLD        USO     SLV   EUR/USD\n",
       "0  1/2/2008  1447.160034  84.860001  78.470001  15.180  1.471692\n",
       "1  1/3/2008  1447.160034  85.570000  78.370003  15.285  1.474491\n",
       "2  1/4/2008  1411.630005  85.129997  77.309998  15.167  1.475492\n",
       "3  1/7/2008  1416.180054  84.769997  75.500000  15.053  1.468299\n",
       "4  1/8/2008  1390.189941  86.779999  76.059998  15.590  1.557099"
      ]
     },
     "execution_count": 22,
     "metadata": {},
     "output_type": "execute_result"
    }
   ],
   "source": [
    "df.head()"
   ]
  },
  {
   "cell_type": "markdown",
   "metadata": {
    "id": "BPp5gPVSRjxb"
   },
   "source": [
    "<a id=\"2\"></a>\n",
    "\n",
    "## <b>4 <span style='color:#AB8111'>|</span> CHECKING FOR NULL AND DUPLICATES</b>\n",
    "\n"
   ]
  },
  {
   "cell_type": "code",
   "execution_count": 23,
   "metadata": {
    "colab": {
     "base_uri": "https://localhost:8080/"
    },
    "id": "Um6k8DPKRf9N",
    "outputId": "8deeaa0d-418d-495b-e3c0-e2fac7eaa0c1"
   },
   "outputs": [
    {
     "data": {
      "text/plain": [
       "0"
      ]
     },
     "execution_count": 23,
     "metadata": {},
     "output_type": "execute_result"
    }
   ],
   "source": [
    "df.duplicated().sum()"
   ]
  },
  {
   "cell_type": "code",
   "execution_count": 24,
   "metadata": {
    "colab": {
     "base_uri": "https://localhost:8080/",
     "height": 424
    },
    "id": "7i2uZLTYqy5K",
    "outputId": "cbb20230-a275-4039-cf6c-a4f74ae60428"
   },
   "outputs": [
    {
     "data": {
      "text/html": [
       "<div>\n",
       "<style scoped>\n",
       "    .dataframe tbody tr th:only-of-type {\n",
       "        vertical-align: middle;\n",
       "    }\n",
       "\n",
       "    .dataframe tbody tr th {\n",
       "        vertical-align: top;\n",
       "    }\n",
       "\n",
       "    .dataframe thead th {\n",
       "        text-align: right;\n",
       "    }\n",
       "</style>\n",
       "<table border=\"1\" class=\"dataframe\">\n",
       "  <thead>\n",
       "    <tr style=\"text-align: right;\">\n",
       "      <th></th>\n",
       "      <th>Date</th>\n",
       "      <th>SPX</th>\n",
       "      <th>GLD</th>\n",
       "      <th>USO</th>\n",
       "      <th>SLV</th>\n",
       "      <th>EUR/USD</th>\n",
       "    </tr>\n",
       "  </thead>\n",
       "  <tbody>\n",
       "    <tr>\n",
       "      <th>0</th>\n",
       "      <td>1/2/2008</td>\n",
       "      <td>1447.160034</td>\n",
       "      <td>84.860001</td>\n",
       "      <td>78.470001</td>\n",
       "      <td>15.1800</td>\n",
       "      <td>1.471692</td>\n",
       "    </tr>\n",
       "    <tr>\n",
       "      <th>1</th>\n",
       "      <td>1/3/2008</td>\n",
       "      <td>1447.160034</td>\n",
       "      <td>85.570000</td>\n",
       "      <td>78.370003</td>\n",
       "      <td>15.2850</td>\n",
       "      <td>1.474491</td>\n",
       "    </tr>\n",
       "    <tr>\n",
       "      <th>2</th>\n",
       "      <td>1/4/2008</td>\n",
       "      <td>1411.630005</td>\n",
       "      <td>85.129997</td>\n",
       "      <td>77.309998</td>\n",
       "      <td>15.1670</td>\n",
       "      <td>1.475492</td>\n",
       "    </tr>\n",
       "    <tr>\n",
       "      <th>3</th>\n",
       "      <td>1/7/2008</td>\n",
       "      <td>1416.180054</td>\n",
       "      <td>84.769997</td>\n",
       "      <td>75.500000</td>\n",
       "      <td>15.0530</td>\n",
       "      <td>1.468299</td>\n",
       "    </tr>\n",
       "    <tr>\n",
       "      <th>4</th>\n",
       "      <td>1/8/2008</td>\n",
       "      <td>1390.189941</td>\n",
       "      <td>86.779999</td>\n",
       "      <td>76.059998</td>\n",
       "      <td>15.5900</td>\n",
       "      <td>1.557099</td>\n",
       "    </tr>\n",
       "    <tr>\n",
       "      <th>...</th>\n",
       "      <td>...</td>\n",
       "      <td>...</td>\n",
       "      <td>...</td>\n",
       "      <td>...</td>\n",
       "      <td>...</td>\n",
       "      <td>...</td>\n",
       "    </tr>\n",
       "    <tr>\n",
       "      <th>2285</th>\n",
       "      <td>5/8/2018</td>\n",
       "      <td>2671.919922</td>\n",
       "      <td>124.589996</td>\n",
       "      <td>14.060000</td>\n",
       "      <td>15.5100</td>\n",
       "      <td>1.186789</td>\n",
       "    </tr>\n",
       "    <tr>\n",
       "      <th>2286</th>\n",
       "      <td>5/9/2018</td>\n",
       "      <td>2697.790039</td>\n",
       "      <td>124.330002</td>\n",
       "      <td>14.370000</td>\n",
       "      <td>15.5300</td>\n",
       "      <td>1.184722</td>\n",
       "    </tr>\n",
       "    <tr>\n",
       "      <th>2287</th>\n",
       "      <td>5/10/2018</td>\n",
       "      <td>2723.070068</td>\n",
       "      <td>125.180000</td>\n",
       "      <td>14.410000</td>\n",
       "      <td>15.7400</td>\n",
       "      <td>1.191753</td>\n",
       "    </tr>\n",
       "    <tr>\n",
       "      <th>2288</th>\n",
       "      <td>5/14/2018</td>\n",
       "      <td>2730.129883</td>\n",
       "      <td>124.489998</td>\n",
       "      <td>14.380000</td>\n",
       "      <td>15.5600</td>\n",
       "      <td>1.193118</td>\n",
       "    </tr>\n",
       "    <tr>\n",
       "      <th>2289</th>\n",
       "      <td>5/16/2018</td>\n",
       "      <td>2725.780029</td>\n",
       "      <td>122.543800</td>\n",
       "      <td>14.405800</td>\n",
       "      <td>15.4542</td>\n",
       "      <td>1.182033</td>\n",
       "    </tr>\n",
       "  </tbody>\n",
       "</table>\n",
       "<p>2290 rows × 6 columns</p>\n",
       "</div>"
      ],
      "text/plain": [
       "           Date          SPX         GLD        USO      SLV   EUR/USD\n",
       "0      1/2/2008  1447.160034   84.860001  78.470001  15.1800  1.471692\n",
       "1      1/3/2008  1447.160034   85.570000  78.370003  15.2850  1.474491\n",
       "2      1/4/2008  1411.630005   85.129997  77.309998  15.1670  1.475492\n",
       "3      1/7/2008  1416.180054   84.769997  75.500000  15.0530  1.468299\n",
       "4      1/8/2008  1390.189941   86.779999  76.059998  15.5900  1.557099\n",
       "...         ...          ...         ...        ...      ...       ...\n",
       "2285   5/8/2018  2671.919922  124.589996  14.060000  15.5100  1.186789\n",
       "2286   5/9/2018  2697.790039  124.330002  14.370000  15.5300  1.184722\n",
       "2287  5/10/2018  2723.070068  125.180000  14.410000  15.7400  1.191753\n",
       "2288  5/14/2018  2730.129883  124.489998  14.380000  15.5600  1.193118\n",
       "2289  5/16/2018  2725.780029  122.543800  14.405800  15.4542  1.182033\n",
       "\n",
       "[2290 rows x 6 columns]"
      ]
     },
     "execution_count": 24,
     "metadata": {},
     "output_type": "execute_result"
    }
   ],
   "source": [
    "df.dropna()"
   ]
  },
  {
   "cell_type": "markdown",
   "metadata": {
    "id": "4uq0QeaqSI3q"
   },
   "source": [
    "<a id=\"6\"></a>\n",
    "\n",
    "## <b>5<span style='color:#AB8111'>|</span> DATA PREPROCESSING</b>"
   ]
  },
  {
   "cell_type": "code",
   "execution_count": 25,
   "metadata": {
    "colab": {
     "base_uri": "https://localhost:8080/",
     "height": 245
    },
    "id": "Od8s8yN_ZtMt",
    "outputId": "17379ec3-c950-4ad3-dbad-91f6946dceb5"
   },
   "outputs": [
    {
     "data": {
      "text/html": [
       "<style type=\"text/css\">\n",
       "#T_eb300_row0_col0, #T_eb300_row1_col0, #T_eb300_row2_col0, #T_eb300_row3_col0, #T_eb300_row4_col0 {\n",
       "  background-color: #AB8111;\n",
       "  font-size: 17px;\n",
       "  color: #ffffff;\n",
       "  border-radius: 1px;\n",
       "  border: 1.5px solid black;\n",
       "}\n",
       "</style>\n",
       "<table id=\"T_eb300\">\n",
       "  <thead>\n",
       "    <tr>\n",
       "      <th class=\"blank level0\" >&nbsp;</th>\n",
       "      <th id=\"T_eb300_level0_col0\" class=\"col_heading level0 col0\" >GLD</th>\n",
       "    </tr>\n",
       "  </thead>\n",
       "  <tbody>\n",
       "    <tr>\n",
       "      <th id=\"T_eb300_level0_row0\" class=\"row_heading level0 row0\" >0</th>\n",
       "      <td id=\"T_eb300_row0_col0\" class=\"data row0 col0\" >84.860001</td>\n",
       "    </tr>\n",
       "    <tr>\n",
       "      <th id=\"T_eb300_level0_row1\" class=\"row_heading level0 row1\" >1</th>\n",
       "      <td id=\"T_eb300_row1_col0\" class=\"data row1 col0\" >85.570000</td>\n",
       "    </tr>\n",
       "    <tr>\n",
       "      <th id=\"T_eb300_level0_row2\" class=\"row_heading level0 row2\" >2</th>\n",
       "      <td id=\"T_eb300_row2_col0\" class=\"data row2 col0\" >85.129997</td>\n",
       "    </tr>\n",
       "    <tr>\n",
       "      <th id=\"T_eb300_level0_row3\" class=\"row_heading level0 row3\" >3</th>\n",
       "      <td id=\"T_eb300_row3_col0\" class=\"data row3 col0\" >84.769997</td>\n",
       "    </tr>\n",
       "    <tr>\n",
       "      <th id=\"T_eb300_level0_row4\" class=\"row_heading level0 row4\" >4</th>\n",
       "      <td id=\"T_eb300_row4_col0\" class=\"data row4 col0\" >86.779999</td>\n",
       "    </tr>\n",
       "  </tbody>\n",
       "</table>\n"
      ],
      "text/plain": [
       "<pandas.io.formats.style.Styler at 0x3ff46fb90f0>"
      ]
     },
     "execution_count": 25,
     "metadata": {},
     "output_type": "execute_result"
    }
   ],
   "source": [
    "data = df.filter(['GLD'])\n",
    "data.head().style.set_properties(**{\"background-color\": \"#AB8111\", \"font-size\" : \"17px\",\n",
    "                                    \"color\": \"#ffffff\", \"border-radius\" : \"1px\", \"border\": \"1.5px solid black\"})\n"
   ]
  },
  {
   "cell_type": "code",
   "execution_count": 26,
   "metadata": {
    "id": "Ju335KQiaEh5"
   },
   "outputs": [],
   "source": [
    "data.dropna()\n",
    "dataset = data.values"
   ]
  },
  {
   "cell_type": "code",
   "execution_count": 27,
   "metadata": {
    "colab": {
     "base_uri": "https://localhost:8080/"
    },
    "id": "W8_djMkVa45o",
    "outputId": "ce8a4e3f-313a-489c-c1a2-5195588e61c6"
   },
   "outputs": [
    {
     "data": {
      "text/plain": [
       "array([[84.860001],\n",
       "       [85.57    ],\n",
       "       [85.129997],\n",
       "       [84.769997],\n",
       "       [86.779999]])"
      ]
     },
     "execution_count": 27,
     "metadata": {},
     "output_type": "execute_result"
    }
   ],
   "source": [
    "dataset[0:5]"
   ]
  },
  {
   "cell_type": "code",
   "execution_count": 28,
   "metadata": {
    "colab": {
     "base_uri": "https://localhost:8080/"
    },
    "id": "NxDiDWe-a_oc",
    "outputId": "5f436a65-41cd-4137-baff-cadbae164e10"
   },
   "outputs": [
    {
     "name": "stdout",
     "output_type": "stream",
     "text": [
      "Training data length:  1832\n"
     ]
    }
   ],
   "source": [
    "training_data_len = int(np.ceil( len(dataset) * .80 ))\n",
    "print(\"Training data length: \", training_data_len)"
   ]
  },
  {
   "cell_type": "markdown",
   "metadata": {
    "id": "eVzc9uruSv9P"
   },
   "source": [
    "<a id=\"6.4\"></a>\n",
    "\n",
    "## <b>6<span style='color:#AB8111'>|</span> Normalization</b>"
   ]
  },
  {
   "cell_type": "code",
   "execution_count": 29,
   "metadata": {
    "colab": {
     "base_uri": "https://localhost:8080/"
    },
    "id": "IcI1ZBRNeQwU",
    "outputId": "a887971b-4300-4deb-e1a1-5cd90ffe48bd"
   },
   "outputs": [
    {
     "data": {
      "text/plain": [
       "array([[0.12967974],\n",
       "       [0.13587574],\n",
       "       [0.13203593],\n",
       "       ...,\n",
       "       [0.48154291],\n",
       "       [0.47552142],\n",
       "       [0.45853741]])"
      ]
     },
     "execution_count": 29,
     "metadata": {},
     "output_type": "execute_result"
    }
   ],
   "source": [
    "scaler = MinMaxScaler(feature_range = (0, 1))\n",
    "scaled_data = scaler.fit_transform(dataset)\n",
    "scaled_data"
   ]
  },
  {
   "cell_type": "markdown",
   "metadata": {
    "id": "TxG6BK6kS15a"
   },
   "source": [
    "<a id=\"6.5\"></a>\n",
    "\n",
    "## <b>7<span style='color:#AB8111'>|</span> Creating training dataset</b>"
   ]
  },
  {
   "cell_type": "code",
   "execution_count": 30,
   "metadata": {
    "colab": {
     "base_uri": "https://localhost:8080/"
    },
    "id": "IR-XvBUxeXUo",
    "outputId": "f4618d7f-18f5-4eb5-c201-caf306140dbb"
   },
   "outputs": [
    {
     "name": "stdout",
     "output_type": "stream",
     "text": [
      "[array([0.12967974, 0.13587574, 0.13203593, 0.1288943 , 0.14643511,\n",
      "       0.14442799, 0.15926347, 0.16214332, 0.170521  , 0.15699449,\n",
      "       0.14573695, 0.14399163, 0.15202023, 0.15856531, 0.15612182,\n",
      "       0.17523346, 0.17715336, 0.18980715, 0.1845711 , 0.19251242,\n",
      "       0.18675279, 0.16886289, 0.1666812 , 0.15428921, 0.16537218,\n",
      "       0.17322627, 0.18326207, 0.18614192, 0.16868839, 0.16964833,\n",
      "       0.17200454, 0.16711757, 0.18832361, 0.20281001, 0.20289729,\n",
      "       0.20411903, 0.19844663, 0.2069116 , 0.21624924, 0.22680861,\n",
      "       0.22846672, 0.23771707, 0.21973995, 0.24190594, 0.23125928,\n",
      "       0.22768127, 0.22576144, 0.22680861, 0.23570995, 0.24731649,\n",
      "       0.25054542, 0.25455973, 0.23125928, 0.20106468, 0.17374993,\n",
      "       0.17540796, 0.1983594 , 0.20769704, 0.20472991, 0.1909416 ])] \n",
      "\n",
      "[0.14713327156412492]\n",
      "[array([0.12967974, 0.13587574, 0.13203593, 0.1288943 , 0.14643511,\n",
      "       0.14442799, 0.15926347, 0.16214332, 0.170521  , 0.15699449,\n",
      "       0.14573695, 0.14399163, 0.15202023, 0.15856531, 0.15612182,\n",
      "       0.17523346, 0.17715336, 0.18980715, 0.1845711 , 0.19251242,\n",
      "       0.18675279, 0.16886289, 0.1666812 , 0.15428921, 0.16537218,\n",
      "       0.17322627, 0.18326207, 0.18614192, 0.16868839, 0.16964833,\n",
      "       0.17200454, 0.16711757, 0.18832361, 0.20281001, 0.20289729,\n",
      "       0.20411903, 0.19844663, 0.2069116 , 0.21624924, 0.22680861,\n",
      "       0.22846672, 0.23771707, 0.21973995, 0.24190594, 0.23125928,\n",
      "       0.22768127, 0.22576144, 0.22680861, 0.23570995, 0.24731649,\n",
      "       0.25054542, 0.25455973, 0.23125928, 0.20106468, 0.17374993,\n",
      "       0.17540796, 0.1983594 , 0.20769704, 0.20472991, 0.1909416 ]), array([0.13587574, 0.13203593, 0.1288943 , 0.14643511, 0.14442799,\n",
      "       0.15926347, 0.16214332, 0.170521  , 0.15699449, 0.14573695,\n",
      "       0.14399163, 0.15202023, 0.15856531, 0.15612182, 0.17523346,\n",
      "       0.17715336, 0.18980715, 0.1845711 , 0.19251242, 0.18675279,\n",
      "       0.16886289, 0.1666812 , 0.15428921, 0.16537218, 0.17322627,\n",
      "       0.18326207, 0.18614192, 0.16868839, 0.16964833, 0.17200454,\n",
      "       0.16711757, 0.18832361, 0.20281001, 0.20289729, 0.20411903,\n",
      "       0.19844663, 0.2069116 , 0.21624924, 0.22680861, 0.22846672,\n",
      "       0.23771707, 0.21973995, 0.24190594, 0.23125928, 0.22768127,\n",
      "       0.22576144, 0.22680861, 0.23570995, 0.24731649, 0.25054542,\n",
      "       0.25455973, 0.23125928, 0.20106468, 0.17374993, 0.17540796,\n",
      "       0.1983594 , 0.20769704, 0.20472991, 0.1909416 , 0.14713327])] \n",
      "\n",
      "[0.14713327156412492, 0.1681647410128193]\n"
     ]
    }
   ],
   "source": [
    "# Create the training data set\n",
    "# Create the scaled training data set\n",
    "train_data = scaled_data[0:int(training_data_len), :]\n",
    "# Split the data into x_train and y_train data sets\n",
    "x_train = []\n",
    "y_train = []\n",
    "\n",
    "for i in range(60, len(train_data)):\n",
    "    x_train.append(train_data[i-60:i, 0])\n",
    "    y_train.append(train_data[i, 0])\n",
    "    if i<= 61:\n",
    "        print(x_train, \"\\n\")\n",
    "        print(y_train)"
   ]
  },
  {
   "cell_type": "markdown",
   "metadata": {
    "id": "jMfDIsjAS__u"
   },
   "source": [
    "<a id=\"6.6\"></a>\n",
    "\n",
    "#### <b>7.1<span style='color:#AB8111'>|</span> Convert x_train and y_train to array</b>"
   ]
  },
  {
   "cell_type": "code",
   "execution_count": 31,
   "metadata": {
    "id": "YJFdhB_YeciN"
   },
   "outputs": [],
   "source": [
    "x_train = np.array(x_train)\n",
    "y_train = np.array(y_train)"
   ]
  },
  {
   "cell_type": "markdown",
   "metadata": {
    "id": "koR3HI5kTFoS"
   },
   "source": [
    "<a id=\"6.7\"></a>\n",
    "\n",
    "#### <b>7.2<span style='color:#AB8111'>|</span> Reshaping the data</b>"
   ]
  },
  {
   "cell_type": "code",
   "execution_count": 32,
   "metadata": {
    "colab": {
     "base_uri": "https://localhost:8080/"
    },
    "id": "IPvTezB0eirl",
    "outputId": "139a0014-9c94-4667-f478-5b6565aa322f"
   },
   "outputs": [
    {
     "name": "stdout",
     "output_type": "stream",
     "text": [
      "The shape of x_train set: (1772, 60, 1)\n"
     ]
    }
   ],
   "source": [
    "x_train = np.reshape(x_train, (x_train.shape[0], x_train.shape[1], 1))\n",
    "print(\"The shape of x_train set:\", x_train.shape)"
   ]
  },
  {
   "cell_type": "code",
   "execution_count": 33,
   "metadata": {
    "colab": {
     "base_uri": "https://localhost:8080/"
    },
    "id": "XGO9njOfKdrS",
    "outputId": "2f20d558-bf68-4e0f-adce-e44d8d245210"
   },
   "outputs": [
    {
     "data": {
      "text/plain": [
       "array([[[0.12967974],\n",
       "        [0.13587574],\n",
       "        [0.13203593],\n",
       "        ...,\n",
       "        [0.20769704],\n",
       "        [0.20472991],\n",
       "        [0.1909416 ]],\n",
       "\n",
       "       [[0.13587574],\n",
       "        [0.13203593],\n",
       "        [0.1288943 ],\n",
       "        ...,\n",
       "        [0.20472991],\n",
       "        [0.1909416 ],\n",
       "        [0.14713327]],\n",
       "\n",
       "       [[0.13203593],\n",
       "        [0.1288943 ],\n",
       "        [0.14643511],\n",
       "        ...,\n",
       "        [0.1909416 ],\n",
       "        [0.14713327],\n",
       "        [0.16816474]],\n",
       "\n",
       "       ...,\n",
       "\n",
       "       [[0.30316781],\n",
       "        [0.29854263],\n",
       "        [0.3029933 ],\n",
       "        ...,\n",
       "        [0.41591767],\n",
       "        [0.40963438],\n",
       "        [0.42420807]],\n",
       "\n",
       "       [[0.29854263],\n",
       "        [0.3029933 ],\n",
       "        [0.28815776],\n",
       "        ...,\n",
       "        [0.40963438],\n",
       "        [0.42420807],\n",
       "        [0.43660006]],\n",
       "\n",
       "       [[0.3029933 ],\n",
       "        [0.28815776],\n",
       "        [0.29740818],\n",
       "        ...,\n",
       "        [0.42420807],\n",
       "        [0.43660006],\n",
       "        [0.43677463]]])"
      ]
     },
     "execution_count": 33,
     "metadata": {},
     "output_type": "execute_result"
    }
   ],
   "source": [
    "x_train"
   ]
  },
  {
   "cell_type": "markdown",
   "metadata": {
    "id": "FvMkD-ixTKSP"
   },
   "source": [
    "<a id=\"7\"></a>\n",
    "\n",
    "## <b>8<span style='color:#AB8111'>|</span> LONG SHORT-TERM MEMORY (LSTM) Model</b>"
   ]
  },
  {
   "cell_type": "markdown",
   "metadata": {
    "id": "Op4iYPDETYaC"
   },
   "source": [
    "<a id=\"7.1\"></a>\n",
    "\n",
    "#### <b>8.1<span style='color:#AB8111'>|</span> Building and training LSTM model</b>"
   ]
  },
  {
   "cell_type": "code",
   "execution_count": 34,
   "metadata": {
    "colab": {
     "base_uri": "https://localhost:8080/"
    },
    "id": "DHMCkFzrempv",
    "outputId": "08a2ab22-5678-4f08-b0d6-81dc2fccd275"
   },
   "outputs": [
    {
     "name": "stdout",
     "output_type": "stream",
     "text": [
      "Epoch 1/100\n",
      "28/28 [==============================] - 6s 103ms/step - loss: 0.0217\n",
      "Epoch 2/100\n",
      "28/28 [==============================] - 3s 100ms/step - loss: 0.0017\n",
      "Epoch 3/100\n",
      "28/28 [==============================] - 3s 100ms/step - loss: 9.6736e-04\n",
      "Epoch 4/100\n",
      "28/28 [==============================] - 3s 104ms/step - loss: 8.9718e-04\n",
      "Epoch 5/100\n",
      "28/28 [==============================] - 3s 101ms/step - loss: 8.7132e-04\n",
      "Epoch 6/100\n",
      "28/28 [==============================] - 3s 99ms/step - loss: 8.5928e-04\n",
      "Epoch 7/100\n",
      "28/28 [==============================] - 3s 98ms/step - loss: 8.4440e-04\n",
      "Epoch 8/100\n",
      "28/28 [==============================] - 3s 97ms/step - loss: 8.3561e-04\n",
      "Epoch 9/100\n",
      "28/28 [==============================] - 3s 98ms/step - loss: 7.8790e-04\n",
      "Epoch 10/100\n",
      "28/28 [==============================] - 3s 100ms/step - loss: 7.7454e-04\n",
      "Epoch 11/100\n",
      "28/28 [==============================] - 3s 101ms/step - loss: 7.7087e-04\n",
      "Epoch 12/100\n",
      "28/28 [==============================] - 3s 100ms/step - loss: 7.3905e-04\n",
      "Epoch 13/100\n",
      "28/28 [==============================] - 3s 100ms/step - loss: 7.5729e-04\n",
      "Epoch 14/100\n",
      "28/28 [==============================] - 4s 144ms/step - loss: 7.5311e-04\n",
      "Epoch 15/100\n",
      "28/28 [==============================] - 4s 153ms/step - loss: 6.7501e-04\n",
      "Epoch 16/100\n",
      "28/28 [==============================] - 3s 120ms/step - loss: 6.5419e-04\n",
      "Epoch 17/100\n",
      "28/28 [==============================] - 6s 208ms/step - loss: 6.6008e-04\n",
      "Epoch 18/100\n",
      "28/28 [==============================] - 4s 146ms/step - loss: 6.3670e-04\n",
      "Epoch 19/100\n",
      "28/28 [==============================] - 6s 234ms/step - loss: 5.9680e-04\n",
      "Epoch 20/100\n",
      "28/28 [==============================] - 5s 168ms/step - loss: 5.9224e-04\n",
      "Epoch 21/100\n",
      "28/28 [==============================] - 3s 109ms/step - loss: 6.4078e-04\n",
      "Epoch 22/100\n",
      "28/28 [==============================] - 5s 162ms/step - loss: 5.9723e-04\n",
      "Epoch 23/100\n",
      "28/28 [==============================] - 5s 196ms/step - loss: 5.6155e-04\n",
      "Epoch 24/100\n",
      "28/28 [==============================] - 6s 223ms/step - loss: 5.4023e-04\n",
      "Epoch 25/100\n",
      "28/28 [==============================] - 6s 207ms/step - loss: 5.3316e-04\n",
      "Epoch 26/100\n",
      "28/28 [==============================] - 4s 161ms/step - loss: 5.5542e-04\n",
      "Epoch 27/100\n",
      "28/28 [==============================] - 3s 103ms/step - loss: 5.7958e-04\n",
      "Epoch 28/100\n",
      "28/28 [==============================] - 3s 100ms/step - loss: 5.8823e-04\n",
      "Epoch 29/100\n",
      "28/28 [==============================] - 3s 102ms/step - loss: 5.0393e-04\n",
      "Epoch 30/100\n",
      "28/28 [==============================] - 3s 100ms/step - loss: 5.6316e-04\n",
      "Epoch 31/100\n",
      "28/28 [==============================] - 3s 101ms/step - loss: 5.2171e-04\n",
      "Epoch 32/100\n",
      "28/28 [==============================] - 3s 99ms/step - loss: 5.0197e-04\n",
      "Epoch 33/100\n",
      "28/28 [==============================] - 3s 103ms/step - loss: 5.4788e-04\n",
      "Epoch 34/100\n",
      "28/28 [==============================] - 3s 100ms/step - loss: 5.0939e-04\n",
      "Epoch 35/100\n",
      "28/28 [==============================] - 3s 98ms/step - loss: 4.6218e-04\n",
      "Epoch 36/100\n",
      "28/28 [==============================] - 3s 109ms/step - loss: 4.5857e-04\n",
      "Epoch 37/100\n",
      "28/28 [==============================] - 4s 133ms/step - loss: 4.2470e-04\n",
      "Epoch 38/100\n",
      "28/28 [==============================] - 3s 105ms/step - loss: 4.1291e-04\n",
      "Epoch 39/100\n",
      "28/28 [==============================] - 3s 102ms/step - loss: 4.3567e-04\n",
      "Epoch 40/100\n",
      "28/28 [==============================] - 3s 101ms/step - loss: 4.6310e-04\n",
      "Epoch 41/100\n",
      "28/28 [==============================] - 3s 103ms/step - loss: 4.1593e-04\n",
      "Epoch 42/100\n",
      "28/28 [==============================] - 3s 102ms/step - loss: 4.3255e-04\n",
      "Epoch 43/100\n",
      "28/28 [==============================] - 3s 103ms/step - loss: 4.0196e-04\n",
      "Epoch 44/100\n",
      "28/28 [==============================] - 3s 101ms/step - loss: 3.9217e-04\n",
      "Epoch 45/100\n",
      "28/28 [==============================] - 3s 101ms/step - loss: 3.8418e-04\n",
      "Epoch 46/100\n",
      "28/28 [==============================] - 3s 113ms/step - loss: 3.8555e-04\n",
      "Epoch 47/100\n",
      "28/28 [==============================] - 6s 235ms/step - loss: 3.6219e-04\n",
      "Epoch 48/100\n",
      "28/28 [==============================] - 5s 193ms/step - loss: 3.8438e-04\n",
      "Epoch 49/100\n",
      "28/28 [==============================] - 3s 121ms/step - loss: 3.7924e-04\n",
      "Epoch 50/100\n",
      "28/28 [==============================] - 7s 264ms/step - loss: 3.4631e-04\n",
      "Epoch 51/100\n",
      "28/28 [==============================] - 6s 212ms/step - loss: 3.5891e-04\n",
      "Epoch 52/100\n",
      "28/28 [==============================] - 6s 226ms/step - loss: 3.8222e-04\n",
      "Epoch 53/100\n",
      "28/28 [==============================] - 5s 191ms/step - loss: 3.3589e-04\n",
      "Epoch 54/100\n",
      "28/28 [==============================] - 4s 141ms/step - loss: 3.7663e-04\n",
      "Epoch 55/100\n",
      "28/28 [==============================] - 6s 222ms/step - loss: 3.5121e-04\n",
      "Epoch 56/100\n",
      "28/28 [==============================] - 5s 186ms/step - loss: 3.4921e-04\n",
      "Epoch 57/100\n",
      "28/28 [==============================] - 6s 227ms/step - loss: 3.6225e-04\n",
      "Epoch 58/100\n",
      "28/28 [==============================] - 3s 106ms/step - loss: 3.5881e-04\n",
      "Epoch 59/100\n",
      "28/28 [==============================] - 3s 106ms/step - loss: 3.4477e-04\n",
      "Epoch 60/100\n",
      "28/28 [==============================] - 3s 107ms/step - loss: 4.3069e-04\n",
      "Epoch 61/100\n",
      "28/28 [==============================] - 3s 104ms/step - loss: 3.8192e-04\n",
      "Epoch 62/100\n",
      "28/28 [==============================] - 3s 104ms/step - loss: 3.1817e-04\n",
      "Epoch 63/100\n",
      "28/28 [==============================] - 3s 104ms/step - loss: 2.9856e-04\n",
      "Epoch 64/100\n",
      "28/28 [==============================] - 3s 101ms/step - loss: 3.0967e-04\n",
      "Epoch 65/100\n",
      "28/28 [==============================] - 3s 101ms/step - loss: 3.2320e-04\n",
      "Epoch 66/100\n",
      "28/28 [==============================] - 3s 99ms/step - loss: 2.9776e-04\n",
      "Epoch 67/100\n",
      "28/28 [==============================] - 3s 107ms/step - loss: 3.4904e-04\n",
      "Epoch 68/100\n",
      "28/28 [==============================] - 3s 103ms/step - loss: 2.9810e-04\n",
      "Epoch 69/100\n",
      "28/28 [==============================] - 3s 105ms/step - loss: 3.5303e-04\n",
      "Epoch 70/100\n",
      "28/28 [==============================] - 3s 101ms/step - loss: 3.0933e-04\n",
      "Epoch 71/100\n",
      "28/28 [==============================] - 3s 100ms/step - loss: 2.8077e-04\n",
      "Epoch 72/100\n",
      "28/28 [==============================] - 3s 101ms/step - loss: 2.8765e-04\n",
      "Epoch 73/100\n",
      "28/28 [==============================] - 3s 102ms/step - loss: 2.8882e-04\n",
      "Epoch 74/100\n",
      "28/28 [==============================] - 3s 104ms/step - loss: 2.7034e-04\n",
      "Epoch 75/100\n",
      "28/28 [==============================] - 3s 100ms/step - loss: 2.6992e-04\n",
      "Epoch 76/100\n",
      "28/28 [==============================] - 3s 102ms/step - loss: 3.1852e-04\n",
      "Epoch 77/100\n",
      "28/28 [==============================] - 3s 117ms/step - loss: 3.1460e-04\n",
      "Epoch 78/100\n",
      "28/28 [==============================] - 5s 181ms/step - loss: 2.8673e-04\n",
      "Epoch 79/100\n",
      "28/28 [==============================] - 4s 155ms/step - loss: 2.8457e-04\n",
      "Epoch 80/100\n",
      "28/28 [==============================] - 5s 171ms/step - loss: 2.8366e-04\n",
      "Epoch 81/100\n",
      "28/28 [==============================] - 7s 230ms/step - loss: 3.4202e-04\n",
      "Epoch 82/100\n",
      "28/28 [==============================] - 4s 151ms/step - loss: 2.6543e-04\n",
      "Epoch 83/100\n",
      "28/28 [==============================] - 3s 108ms/step - loss: 2.6097e-04\n",
      "Epoch 84/100\n",
      "28/28 [==============================] - 5s 182ms/step - loss: 2.6675e-04\n",
      "Epoch 85/100\n",
      "28/28 [==============================] - 4s 128ms/step - loss: 2.5894e-04\n",
      "Epoch 86/100\n",
      "28/28 [==============================] - 3s 112ms/step - loss: 2.5347e-04\n",
      "Epoch 87/100\n",
      "28/28 [==============================] - 3s 108ms/step - loss: 2.5212e-04\n",
      "Epoch 88/100\n",
      "28/28 [==============================] - 8s 279ms/step - loss: 2.6962e-04\n",
      "Epoch 89/100\n",
      "28/28 [==============================] - 5s 190ms/step - loss: 2.9128e-04\n",
      "Epoch 90/100\n",
      "28/28 [==============================] - 5s 166ms/step - loss: 2.5767e-04\n",
      "Epoch 91/100\n",
      "28/28 [==============================] - 3s 107ms/step - loss: 2.5116e-04\n",
      "Epoch 92/100\n",
      "28/28 [==============================] - 3s 106ms/step - loss: 2.5049e-04\n",
      "Epoch 93/100\n",
      "28/28 [==============================] - 3s 109ms/step - loss: 2.6211e-04\n",
      "Epoch 94/100\n",
      "28/28 [==============================] - 3s 103ms/step - loss: 2.4664e-04\n",
      "Epoch 95/100\n",
      "28/28 [==============================] - 3s 102ms/step - loss: 2.5462e-04\n",
      "Epoch 96/100\n",
      "28/28 [==============================] - 3s 107ms/step - loss: 2.4759e-04\n",
      "Epoch 97/100\n",
      "28/28 [==============================] - 3s 107ms/step - loss: 2.4475e-04\n",
      "Epoch 98/100\n",
      "28/28 [==============================] - 3s 104ms/step - loss: 2.5850e-04\n",
      "Epoch 99/100\n",
      "28/28 [==============================] - 3s 102ms/step - loss: 2.3646e-04\n",
      "Epoch 100/100\n",
      "28/28 [==============================] - 4s 130ms/step - loss: 2.3554e-04\n"
     ]
    },
    {
     "data": {
      "text/plain": [
       "<keras.callbacks.History at 0x3ff443c6e00>"
      ]
     },
     "execution_count": 34,
     "metadata": {},
     "output_type": "execute_result"
    }
   ],
   "source": [
    "from keras.models import Sequential\n",
    "from keras.layers import Dense, LSTM\n",
    "\n",
    "model = Sequential()\n",
    "model.add(LSTM(128, return_sequences = True, input_shape = (x_train.shape[1], 1)))\n",
    "model.add(LSTM(64, return_sequences = False))\n",
    "model.add(Dense(25))\n",
    "model.add(Dense(1))\n",
    "\n",
    "model.compile(optimizer = \"adam\", loss = \"mean_squared_error\")\n",
    "\n",
    "model.fit(x_train, y_train, batch_size = 64, epochs = 100)"
   ]
  },
  {
   "cell_type": "markdown",
   "metadata": {
    "id": "InzcAMwLTcjA"
   },
   "source": [
    "<a id=\"7.2\"></a>\n",
    "\n",
    "#### <b>8.2<span style='color:#AB8111'>|</span> Create testing dataset</b>"
   ]
  },
  {
   "cell_type": "code",
   "execution_count": 35,
   "metadata": {
    "id": "JU7LoQ6Wes_P"
   },
   "outputs": [],
   "source": [
    "# Create the testing data set\n",
    "# Create a new array containing scaled values from index 1543 to 2002\n",
    "test_data = scaled_data[training_data_len - 60: , :]\n",
    "# Create the data sets x_test and y_test\n",
    "x_test = []\n",
    "y_test = dataset[training_data_len:, :]\n",
    "for i in range(60, len(test_data)):\n",
    "    x_test.append(test_data[i-60:i, 0])"
   ]
  },
  {
   "cell_type": "markdown",
   "metadata": {
    "id": "8J4lDu-7TjwX"
   },
   "source": [
    "<a id=\"7.3\"></a>\n",
    "\n",
    "#### <b>8.3<span style='color:#AB8111'>|</span> Converting test data to array and reshaping it</b>"
   ]
  },
  {
   "cell_type": "code",
   "execution_count": 36,
   "metadata": {
    "id": "Z-WwiLuWqdsj"
   },
   "outputs": [],
   "source": [
    "x_test = np.array(x_test)\n",
    "x_test = np.reshape(x_test, (x_test.shape[0], x_test.shape[1], 1 ))"
   ]
  },
  {
   "cell_type": "code",
   "execution_count": 37,
   "metadata": {
    "colab": {
     "base_uri": "https://localhost:8080/"
    },
    "id": "-7Qj0ho3IhsE",
    "outputId": "baa58077-ba3c-4d84-b588-a448bba3656b"
   },
   "outputs": [
    {
     "data": {
      "text/plain": [
       "(458, 60, 1)"
      ]
     },
     "execution_count": 37,
     "metadata": {},
     "output_type": "execute_result"
    }
   ],
   "source": [
    "x_test.shape"
   ]
  },
  {
   "cell_type": "markdown",
   "metadata": {
    "id": "Sqx4w53jTqyS"
   },
   "source": [
    "<a id=\"7.4\"></a>\n",
    "\n",
    "#### <b>8.4<span style='color:#AB8111'>|</span> Predicted prices</b>"
   ]
  },
  {
   "cell_type": "code",
   "execution_count": 38,
   "metadata": {
    "colab": {
     "base_uri": "https://localhost:8080/"
    },
    "id": "jl-56aBhox68",
    "outputId": "e94dd0fc-ea89-45ab-d225-7ac774f40aad"
   },
   "outputs": [
    {
     "name": "stdout",
     "output_type": "stream",
     "text": [
      "15/15 [==============================] - 1s 25ms/step\n"
     ]
    },
    {
     "data": {
      "text/plain": [
       "array([[119.25506 ],\n",
       "       [117.65752 ],\n",
       "       [117.60253 ],\n",
       "       [119.04317 ],\n",
       "       [119.13654 ],\n",
       "       [119.43146 ],\n",
       "       [118.6291  ],\n",
       "       [118.67143 ],\n",
       "       [118.975464],\n",
       "       [120.75841 ]], dtype=float32)"
      ]
     },
     "execution_count": 38,
     "metadata": {},
     "output_type": "execute_result"
    }
   ],
   "source": [
    "predictions1 = model.predict(x_test)\n",
    "predictions1 = scaler.inverse_transform(predictions1)\n",
    "predictions1[0:10]"
   ]
  },
  {
   "cell_type": "markdown",
   "metadata": {
    "id": "5BPF9HRlT29Z"
   },
   "source": [
    "<a id=\"7.6\"></a>\n",
    "\n",
    "## <b>9<span style='color:#AB8111'>|</span> Ploting the data</b>"
   ]
  },
  {
   "cell_type": "code",
   "execution_count": 39,
   "metadata": {
    "colab": {
     "base_uri": "https://localhost:8080/",
     "height": 574
    },
    "id": "-rvMLAY96nI5",
    "outputId": "15fa14e6-6ccd-4cb6-bf59-3757f8e4b89b"
   },
   "outputs": [
    {
     "data": {
      "image/png": "[encoded data removed]",
      "text/plain": [
       "<Figure size 1600x600 with 1 Axes>"
      ]
     },
     "metadata": {},
     "output_type": "display_data"
    }
   ],
   "source": [
    "train = data[:training_data_len]\n",
    "valid = data[training_data_len:]\n",
    "valid['Predictions'] = predictions1\n",
    "# Visualize the data\n",
    "plt.figure(figsize=(16,6))\n",
    "plt.title('Model')\n",
    "plt.xlabel('Date', fontsize=18)\n",
    "plt.ylabel('Close Price USD ($)', fontsize=18)\n",
    "plt.plot(train['GLD'])\n",
    "plt.plot(valid[['GLD', 'Predictions']])\n",
    "plt.legend(['Train', 'Val', 'Predictions'], loc = 'lower right')\n",
    "plt.show()"
   ]
  },
  {
   "cell_type": "markdown",
   "metadata": {
    "id": "5YMNIKZZVwWN"
   },
   "source": [
    "<a id=\"7.5\"></a>\n",
    "\n",
    "## <b>10<span style='color:#AB8111'>|</span>Error Scores</b>"
   ]
  },
  {
   "cell_type": "code",
   "execution_count": 40,
   "metadata": {
    "colab": {
     "base_uri": "https://localhost:8080/"
    },
    "id": "SnS8hkUes7QJ",
    "outputId": "77c69d48-55e1-4a6a-e828-dc54d5134e32"
   },
   "outputs": [
    {
     "name": "stdout",
     "output_type": "stream",
     "text": [
      "Mean Absolute Error (MAE): 0.735612705037613\n",
      "Mean Squared Error (MSE): 1.0230848526693674\n",
      "Root Mean Squared Error (RMSE): 1.011476570499469\n",
      "R-squared (R²): 0.9563405218718033\n"
     ]
    }
   ],
   "source": [
    "mae = mean_absolute_error(y_test, predictions1)\n",
    "mse = mean_squared_error(y_test, predictions1)\n",
    "rmse = np.sqrt(mse)\n",
    "r2 = r2_score(y_test, predictions1)\n",
    "print(f\"Mean Absolute Error (MAE): {mae}\")\n",
    "print(f\"Mean Squared Error (MSE): {mse}\")\n",
    "print(f\"Root Mean Squared Error (RMSE): {rmse}\")\n",
    "print(f\"R-squared (R²): {r2}\")"
   ]
  },
  {
   "cell_type": "markdown",
   "metadata": {
    "id": "1BSYWYmqV6_R"
   },
   "source": [
    "<a id=\"7.5\"></a>\n",
    "\n",
    "## <b>11<span style='color:#AB8111'>|</span>Comparisons</b>"
   ]
  },
  {
   "cell_type": "code",
   "execution_count": 41,
   "metadata": {
    "colab": {
     "base_uri": "https://localhost:8080/",
     "height": 363
    },
    "id": "a5d8UFh-X-3E",
    "outputId": "7f80e982-2179-47b9-e990-2989032f948e"
   },
   "outputs": [
    {
     "data": {
      "text/html": [
       "<div>\n",
       "<style scoped>\n",
       "    .dataframe tbody tr th:only-of-type {\n",
       "        vertical-align: middle;\n",
       "    }\n",
       "\n",
       "    .dataframe tbody tr th {\n",
       "        vertical-align: top;\n",
       "    }\n",
       "\n",
       "    .dataframe thead th {\n",
       "        text-align: right;\n",
       "    }\n",
       "</style>\n",
       "<table border=\"1\" class=\"dataframe\">\n",
       "  <thead>\n",
       "    <tr style=\"text-align: right;\">\n",
       "      <th></th>\n",
       "      <th>GLD</th>\n",
       "      <th>Predictions</th>\n",
       "    </tr>\n",
       "  </thead>\n",
       "  <tbody>\n",
       "    <tr>\n",
       "      <th>1832</th>\n",
       "      <td>117.110001</td>\n",
       "      <td>119.255058</td>\n",
       "    </tr>\n",
       "    <tr>\n",
       "      <th>1833</th>\n",
       "      <td>117.739998</td>\n",
       "      <td>117.657516</td>\n",
       "    </tr>\n",
       "    <tr>\n",
       "      <th>1834</th>\n",
       "      <td>119.580002</td>\n",
       "      <td>117.602531</td>\n",
       "    </tr>\n",
       "    <tr>\n",
       "      <th>1835</th>\n",
       "      <td>118.970001</td>\n",
       "      <td>119.043167</td>\n",
       "    </tr>\n",
       "    <tr>\n",
       "      <th>1836</th>\n",
       "      <td>119.419998</td>\n",
       "      <td>119.136543</td>\n",
       "    </tr>\n",
       "    <tr>\n",
       "      <th>1837</th>\n",
       "      <td>118.230003</td>\n",
       "      <td>119.431458</td>\n",
       "    </tr>\n",
       "    <tr>\n",
       "      <th>1838</th>\n",
       "      <td>118.699997</td>\n",
       "      <td>118.629097</td>\n",
       "    </tr>\n",
       "    <tr>\n",
       "      <th>1839</th>\n",
       "      <td>119.040001</td>\n",
       "      <td>118.671432</td>\n",
       "    </tr>\n",
       "    <tr>\n",
       "      <th>1840</th>\n",
       "      <td>121.290001</td>\n",
       "      <td>118.975464</td>\n",
       "    </tr>\n",
       "    <tr>\n",
       "      <th>1841</th>\n",
       "      <td>123.239998</td>\n",
       "      <td>120.758408</td>\n",
       "    </tr>\n",
       "  </tbody>\n",
       "</table>\n",
       "</div>"
      ],
      "text/plain": [
       "             GLD  Predictions\n",
       "1832  117.110001   119.255058\n",
       "1833  117.739998   117.657516\n",
       "1834  119.580002   117.602531\n",
       "1835  118.970001   119.043167\n",
       "1836  119.419998   119.136543\n",
       "1837  118.230003   119.431458\n",
       "1838  118.699997   118.629097\n",
       "1839  119.040001   118.671432\n",
       "1840  121.290001   118.975464\n",
       "1841  123.239998   120.758408"
      ]
     },
     "execution_count": 41,
     "metadata": {},
     "output_type": "execute_result"
    }
   ],
   "source": [
    "valid.head(n = 10)"
   ]
  },
  {
   "cell_type": "code",
   "execution_count": 42,
   "metadata": {
    "colab": {
     "base_uri": "https://localhost:8080/"
    },
    "id": "CjlRC6d9QbVy",
    "outputId": "bcb3c35f-13a6-4eaf-bb5e-0977c92cce63"
   },
   "outputs": [
    {
     "data": {
      "text/plain": [
       "array([[119.25506 ],\n",
       "       [117.65752 ],\n",
       "       [117.60253 ],\n",
       "       [119.04317 ],\n",
       "       [119.13654 ],\n",
       "       [119.43146 ],\n",
       "       [118.6291  ],\n",
       "       [118.67143 ],\n",
       "       [118.975464],\n",
       "       [120.75841 ],\n",
       "       [122.821724],\n",
       "       [123.19    ],\n",
       "       [122.57732 ],\n",
       "       [122.19494 ],\n",
       "       [121.0024  ],\n",
       "       [120.88886 ],\n",
       "       [121.79253 ],\n",
       "       [121.4002  ],\n",
       "       [121.720314],\n",
       "       [122.157265],\n",
       "       [120.68206 ],\n",
       "       [120.00015 ],\n",
       "       [119.47701 ],\n",
       "       [117.82893 ],\n",
       "       [117.09312 ],\n",
       "       [116.66439 ],\n",
       "       [116.21866 ],\n",
       "       [116.029396],\n",
       "       [115.81279 ],\n",
       "       [118.11766 ],\n",
       "       [118.90147 ],\n",
       "       [120.33278 ],\n",
       "       [121.23838 ],\n",
       "       [122.463554],\n",
       "       [122.87415 ],\n",
       "       [123.58987 ],\n",
       "       [122.771576],\n",
       "       [123.07992 ],\n",
       "       [121.407074],\n",
       "       [120.913994],\n",
       "       [120.2597  ],\n",
       "       [125.09167 ],\n",
       "       [125.696686],\n",
       "       [126.0215  ],\n",
       "       [126.49275 ],\n",
       "       [128.9188  ],\n",
       "       [130.18904 ],\n",
       "       [130.0031  ],\n",
       "       [129.46782 ],\n",
       "       [127.57775 ],\n",
       "       [128.0023  ],\n",
       "       [127.443474],\n",
       "       [127.07835 ],\n",
       "       [127.15455 ],\n",
       "       [125.780045],\n",
       "       [126.89515 ],\n",
       "       [125.859665],\n",
       "       [125.938416],\n",
       "       [127.60029 ],\n",
       "       [127.806435],\n",
       "       [129.01337 ],\n",
       "       [130.1571  ],\n",
       "       [129.89977 ],\n",
       "       [129.91408 ],\n",
       "       [127.95707 ],\n",
       "       [127.82757 ],\n",
       "       [128.37224 ],\n",
       "       [127.86557 ],\n",
       "       [127.8546  ],\n",
       "       [128.38112 ],\n",
       "       [128.56493 ],\n",
       "       [129.07875 ],\n",
       "       [128.14618 ],\n",
       "       [127.834496],\n",
       "       [126.66002 ],\n",
       "       [126.268394],\n",
       "       [126.284485],\n",
       "       [125.34413 ],\n",
       "       [124.89342 ],\n",
       "       [125.214195],\n",
       "       [128.02646 ],\n",
       "       [128.5219  ],\n",
       "       [127.9711  ],\n",
       "       [126.94267 ],\n",
       "       [125.98216 ],\n",
       "       [126.0904  ],\n",
       "       [125.56004 ],\n",
       "       [125.38825 ],\n",
       "       [125.47236 ],\n",
       "       [126.95053 ],\n",
       "       [127.63338 ],\n",
       "       [127.73784 ],\n",
       "       [126.96959 ],\n",
       "       [126.39978 ],\n",
       "       [126.14324 ],\n",
       "       [125.52099 ],\n",
       "       [122.00236 ],\n",
       "       [120.854126],\n",
       "       [119.85502 ],\n",
       "       [120.042595],\n",
       "       [119.75512 ],\n",
       "       [119.82817 ],\n",
       "       [120.09354 ],\n",
       "       [119.921   ],\n",
       "       [120.39231 ],\n",
       "       [121.06588 ],\n",
       "       [120.982445],\n",
       "       [120.766464],\n",
       "       [121.36231 ],\n",
       "       [121.056786],\n",
       "       [121.08661 ],\n",
       "       [121.80479 ],\n",
       "       [122.63998 ],\n",
       "       [123.56338 ],\n",
       "       [124.304085],\n",
       "       [124.53259 ],\n",
       "       [122.81611 ],\n",
       "       [121.85267 ],\n",
       "       [121.5695  ],\n",
       "       [120.19364 ],\n",
       "       [117.81995 ],\n",
       "       [116.40635 ],\n",
       "       [116.83025 ],\n",
       "       [116.86148 ],\n",
       "       [116.45771 ],\n",
       "       [115.58241 ],\n",
       "       [115.59999 ],\n",
       "       [115.6331  ],\n",
       "       [114.01678 ],\n",
       "       [112.97034 ],\n",
       "       [113.521095],\n",
       "       [113.45067 ],\n",
       "       [112.34804 ],\n",
       "       [111.785965],\n",
       "       [112.0598  ],\n",
       "       [111.804146],\n",
       "       [111.625046],\n",
       "       [111.84951 ],\n",
       "       [111.77129 ],\n",
       "       [110.91488 ],\n",
       "       [110.86621 ],\n",
       "       [110.64714 ],\n",
       "       [109.46257 ],\n",
       "       [107.993576],\n",
       "       [107.9637  ],\n",
       "       [108.442345],\n",
       "       [108.13787 ],\n",
       "       [108.0289  ],\n",
       "       [107.82249 ],\n",
       "       [107.970695],\n",
       "       [108.47005 ],\n",
       "       [108.87106 ],\n",
       "       [109.96698 ],\n",
       "       [109.91397 ],\n",
       "       [110.38234 ],\n",
       "       [110.81609 ],\n",
       "       [112.13493 ],\n",
       "       [112.04339 ],\n",
       "       [112.53878 ],\n",
       "       [113.046265],\n",
       "       [113.4455  ],\n",
       "       [113.84148 ],\n",
       "       [114.164856],\n",
       "       [115.417206],\n",
       "       [115.15628 ],\n",
       "       [114.89252 ],\n",
       "       [114.98527 ],\n",
       "       [115.56286 ],\n",
       "       [115.40131 ],\n",
       "       [114.62423 ],\n",
       "       [113.58365 ],\n",
       "       [113.411896],\n",
       "       [113.77175 ],\n",
       "       [115.07247 ],\n",
       "       [115.304276],\n",
       "       [115.762314],\n",
       "       [116.0993  ],\n",
       "       [117.312225],\n",
       "       [117.54296 ],\n",
       "       [118.06731 ],\n",
       "       [117.55463 ],\n",
       "       [117.55285 ],\n",
       "       [116.98765 ],\n",
       "       [116.890465],\n",
       "       [117.27772 ],\n",
       "       [117.89908 ],\n",
       "       [117.8132  ],\n",
       "       [117.79356 ],\n",
       "       [117.89733 ],\n",
       "       [118.68844 ],\n",
       "       [119.52058 ],\n",
       "       [119.3294  ],\n",
       "       [119.27842 ],\n",
       "       [119.12563 ],\n",
       "       [117.97872 ],\n",
       "       [117.54475 ],\n",
       "       [116.891205],\n",
       "       [116.03072 ],\n",
       "       [115.26687 ],\n",
       "       [114.64393 ],\n",
       "       [114.669785],\n",
       "       [114.7574  ],\n",
       "       [114.365974],\n",
       "       [115.74432 ],\n",
       "       [116.62897 ],\n",
       "       [117.05681 ],\n",
       "       [117.50589 ],\n",
       "       [118.362206],\n",
       "       [118.83148 ],\n",
       "       [118.80789 ],\n",
       "       [118.888405],\n",
       "       [119.397316],\n",
       "       [119.20231 ],\n",
       "       [119.31822 ],\n",
       "       [118.726204],\n",
       "       [119.16937 ],\n",
       "       [119.55858 ],\n",
       "       [119.676765],\n",
       "       [119.36373 ],\n",
       "       [119.449   ],\n",
       "       [120.77932 ],\n",
       "       [121.852615],\n",
       "       [122.56828 ],\n",
       "       [122.44064 ],\n",
       "       [122.764336],\n",
       "       [122.021866],\n",
       "       [121.93104 ],\n",
       "       [121.57508 ],\n",
       "       [120.551125],\n",
       "       [120.693695],\n",
       "       [120.47501 ],\n",
       "       [119.88119 ],\n",
       "       [119.69141 ],\n",
       "       [118.42936 ],\n",
       "       [117.15269 ],\n",
       "       [116.769615],\n",
       "       [116.228546],\n",
       "       [116.08782 ],\n",
       "       [116.425026],\n",
       "       [117.036934],\n",
       "       [117.61509 ],\n",
       "       [119.344765],\n",
       "       [119.18534 ],\n",
       "       [119.80383 ],\n",
       "       [119.42389 ],\n",
       "       [119.58793 ],\n",
       "       [119.555466],\n",
       "       [120.0276  ],\n",
       "       [120.549736],\n",
       "       [120.775894],\n",
       "       [121.57164 ],\n",
       "       [122.846504],\n",
       "       [122.716415],\n",
       "       [121.97173 ],\n",
       "       [120.733025],\n",
       "       [120.45437 ],\n",
       "       [119.95054 ],\n",
       "       [119.45647 ],\n",
       "       [118.67916 ],\n",
       "       [118.27931 ],\n",
       "       [118.45565 ],\n",
       "       [118.85522 ],\n",
       "       [118.58303 ],\n",
       "       [118.7969  ],\n",
       "       [118.944305],\n",
       "       [118.55308 ],\n",
       "       [116.7678  ],\n",
       "       [116.480194],\n",
       "       [116.45634 ],\n",
       "       [115.88605 ],\n",
       "       [116.00115 ],\n",
       "       [115.936676],\n",
       "       [116.98243 ],\n",
       "       [117.9658  ],\n",
       "       [118.23089 ],\n",
       "       [118.35725 ],\n",
       "       [119.14149 ],\n",
       "       [119.10276 ],\n",
       "       [119.739586],\n",
       "       [119.877815],\n",
       "       [120.594604],\n",
       "       [120.742775],\n",
       "       [120.5548  ],\n",
       "       [120.60986 ],\n",
       "       [119.823814],\n",
       "       [119.82001 ],\n",
       "       [120.950294],\n",
       "       [122.02361 ],\n",
       "       [122.10036 ],\n",
       "       [121.33233 ],\n",
       "       [121.71881 ],\n",
       "       [122.34497 ],\n",
       "       [122.739586],\n",
       "       [122.41    ],\n",
       "       [122.619   ],\n",
       "       [122.40465 ],\n",
       "       [124.15735 ],\n",
       "       [124.52164 ],\n",
       "       [124.49146 ],\n",
       "       [125.55935 ],\n",
       "       [127.14893 ],\n",
       "       [127.05403 ],\n",
       "       [127.95208 ],\n",
       "       [126.65542 ],\n",
       "       [126.50817 ],\n",
       "       [125.77215 ],\n",
       "       [126.01431 ],\n",
       "       [124.735214],\n",
       "       [124.568794],\n",
       "       [123.82092 ],\n",
       "       [122.90677 ],\n",
       "       [124.102806],\n",
       "       [123.47531 ],\n",
       "       [122.3508  ],\n",
       "       [122.197395],\n",
       "       [121.123886],\n",
       "       [120.856705],\n",
       "       [121.09957 ],\n",
       "       [120.73091 ],\n",
       "       [121.784424],\n",
       "       [122.39761 ],\n",
       "       [122.83787 ],\n",
       "       [123.00278 ],\n",
       "       [123.07071 ],\n",
       "       [122.426865],\n",
       "       [121.85905 ],\n",
       "       [122.256195],\n",
       "       [121.982346],\n",
       "       [121.53343 ],\n",
       "       [121.42079 ],\n",
       "       [120.64769 ],\n",
       "       [121.01265 ],\n",
       "       [120.83821 ],\n",
       "       [121.10507 ],\n",
       "       [121.26248 ],\n",
       "       [120.8711  ],\n",
       "       [121.50007 ],\n",
       "       [121.39288 ],\n",
       "       [121.63947 ],\n",
       "       [122.0935  ],\n",
       "       [121.46901 ],\n",
       "       [121.36812 ],\n",
       "       [121.54923 ],\n",
       "       [121.508286],\n",
       "       [121.41437 ],\n",
       "       [121.53615 ],\n",
       "       [122.4283  ],\n",
       "       [122.47932 ],\n",
       "       [122.82814 ],\n",
       "       [122.90433 ],\n",
       "       [122.313034],\n",
       "       [121.39667 ],\n",
       "       [121.501114],\n",
       "       [121.287605],\n",
       "       [120.58678 ],\n",
       "       [120.1911  ],\n",
       "       [118.92981 ],\n",
       "       [118.54072 ],\n",
       "       [118.148834],\n",
       "       [118.168526],\n",
       "       [118.968376],\n",
       "       [119.0807  ],\n",
       "       [119.25768 ],\n",
       "       [119.70257 ],\n",
       "       [119.89992 ],\n",
       "       [120.1683  ],\n",
       "       [120.36141 ],\n",
       "       [120.871994],\n",
       "       [121.64685 ],\n",
       "       [122.215485],\n",
       "       [122.81454 ],\n",
       "       [123.566124],\n",
       "       [124.90396 ],\n",
       "       [125.01233 ],\n",
       "       [125.44109 ],\n",
       "       [125.43328 ],\n",
       "       [125.37563 ],\n",
       "       [124.895996],\n",
       "       [124.98391 ],\n",
       "       [125.35759 ],\n",
       "       [126.662125],\n",
       "       [127.20311 ],\n",
       "       [126.476616],\n",
       "       [125.98718 ],\n",
       "       [126.29867 ],\n",
       "       [126.60133 ],\n",
       "       [127.18069 ],\n",
       "       [128.55898 ],\n",
       "       [128.24133 ],\n",
       "       [128.14204 ],\n",
       "       [127.53033 ],\n",
       "       [126.92064 ],\n",
       "       [127.451324],\n",
       "       [127.98316 ],\n",
       "       [126.79943 ],\n",
       "       [126.68596 ],\n",
       "       [125.663605],\n",
       "       [124.93028 ],\n",
       "       [124.927605],\n",
       "       [124.82718 ],\n",
       "       [125.287   ],\n",
       "       [125.99425 ],\n",
       "       [127.86934 ],\n",
       "       [128.50119 ],\n",
       "       [128.23047 ],\n",
       "       [126.71724 ],\n",
       "       [125.81291 ],\n",
       "       [126.126205],\n",
       "       [126.170135],\n",
       "       [126.44218 ],\n",
       "       [125.499695],\n",
       "       [125.11023 ],\n",
       "       [124.824005],\n",
       "       [125.293465],\n",
       "       [125.30103 ],\n",
       "       [126.33762 ],\n",
       "       [126.012596],\n",
       "       [125.61985 ],\n",
       "       [125.59196 ],\n",
       "       [125.600685],\n",
       "       [125.79745 ],\n",
       "       [125.79772 ],\n",
       "       [125.16681 ],\n",
       "       [124.743004],\n",
       "       [124.85815 ],\n",
       "       [124.49426 ],\n",
       "       [126.07217 ],\n",
       "       [126.18781 ],\n",
       "       [127.41519 ],\n",
       "       [128.27573 ],\n",
       "       [127.8196  ],\n",
       "       [126.22483 ],\n",
       "       [125.80775 ],\n",
       "       [126.92024 ],\n",
       "       [126.54695 ],\n",
       "       [126.51869 ],\n",
       "       [126.01273 ],\n",
       "       [126.665855],\n",
       "       [127.12221 ],\n",
       "       [128.00877 ],\n",
       "       [127.05804 ],\n",
       "       [127.5173  ],\n",
       "       [127.773735],\n",
       "       [127.90882 ],\n",
       "       [127.73204 ],\n",
       "       [126.10801 ],\n",
       "       [126.12615 ],\n",
       "       [125.57822 ],\n",
       "       [125.10496 ],\n",
       "       [124.71378 ],\n",
       "       [123.95746 ],\n",
       "       [123.718475],\n",
       "       [124.18374 ],\n",
       "       [124.58184 ],\n",
       "       [124.70462 ],\n",
       "       [124.51358 ],\n",
       "       [125.09233 ],\n",
       "       [124.738754]], dtype=float32)"
      ]
     },
     "execution_count": 42,
     "metadata": {},
     "output_type": "execute_result"
    }
   ],
   "source": [
    "predictions1"
   ]
  },
  {
   "cell_type": "markdown",
   "metadata": {
    "id": "IZeiosD6WUyz"
   },
   "source": [
    "<a id=\"7\"></a>\n",
    "\n",
    "## <b>12<span style='color:#AB8111'>|</span> Random Forest Regression Model</b>"
   ]
  },
  {
   "cell_type": "code",
   "execution_count": 43,
   "metadata": {
    "colab": {
     "base_uri": "https://localhost:8080/"
    },
    "id": "_04CcYkfNCdc",
    "outputId": "5565cc93-2636-437e-9435-de5271a88f58"
   },
   "outputs": [
    {
     "name": "stdout",
     "output_type": "stream",
     "text": [
      "              SPX        USO      SLV   EUR/USD\n",
      "0     1447.160034  78.470001  15.1800  1.471692\n",
      "1     1447.160034  78.370003  15.2850  1.474491\n",
      "2     1411.630005  77.309998  15.1670  1.475492\n",
      "3     1416.180054  75.500000  15.0530  1.468299\n",
      "4     1390.189941  76.059998  15.5900  1.557099\n",
      "...           ...        ...      ...       ...\n",
      "2285  2671.919922  14.060000  15.5100  1.186789\n",
      "2286  2697.790039  14.370000  15.5300  1.184722\n",
      "2287  2723.070068  14.410000  15.7400  1.191753\n",
      "2288  2730.129883  14.380000  15.5600  1.193118\n",
      "2289  2725.780029  14.405800  15.4542  1.182033\n",
      "\n",
      "[2290 rows x 4 columns]\n"
     ]
    }
   ],
   "source": [
    "X = df.drop(['Date', 'GLD'], axis=1)  #Feature Variable\n",
    "Y = df['GLD']  #Target Variable\n",
    "print(X)"
   ]
  },
  {
   "cell_type": "markdown",
   "metadata": {
    "id": "YPrLC37PWb7p"
   },
   "source": [
    "<a id=\"7\"></a>\n",
    "\n",
    "## <b>13<span style='color:#AB8111'>|</span> Train and Test Split</b>"
   ]
  },
  {
   "cell_type": "code",
   "execution_count": 44,
   "metadata": {
    "id": "u4YEHEoaNRbC"
   },
   "outputs": [],
   "source": [
    "from sklearn.model_selection import train_test_split\n",
    "X_train, X_test, y_train, y_test = train_test_split(X, Y, test_size=0.2, random_state=1)"
   ]
  },
  {
   "cell_type": "markdown",
   "metadata": {
    "id": "X7WDT7QmXVt3"
   },
   "source": [
    "<a id=\"7.1\"></a>\n",
    "\n",
    "## <b>14<span style='color:#AB8111'>|</span> Building and training Random Forest model</b>"
   ]
  },
  {
   "cell_type": "code",
   "execution_count": 45,
   "metadata": {
    "id": "khX9C4FiNUYP"
   },
   "outputs": [],
   "source": [
    "from sklearn.ensemble import RandomForestRegressor\n",
    "regressor = RandomForestRegressor(n_estimators=100)\n",
    "regressor.fit(X_train, y_train)\n",
    "prediction = regressor.predict(X_test)"
   ]
  },
  {
   "cell_type": "markdown",
   "metadata": {
    "id": "XptZuQ5YQQt3"
   },
   "source": [
    "<a id=\"7.4\"></a>\n",
    "\n",
    "## <b>15<span style='color:#AB8111'>|</span> Predicted prices</b>"
   ]
  },
  {
   "cell_type": "code",
   "execution_count": 46,
   "metadata": {
    "colab": {
     "base_uri": "https://localhost:8080/"
    },
    "id": "KF9TwXfEQlMy",
    "outputId": "dca5b7e4-e384-4105-a3a0-46137fcf3083"
   },
   "outputs": [
    {
     "data": {
      "text/plain": [
       "array([113.82519987, 147.68230172, 140.84549877, 112.53380161,\n",
       "       113.63999941,  95.55069942, 111.83409985,  93.32559965,\n",
       "       120.99230044, 127.06149939, 147.79369985, 120.50759856,\n",
       "       119.35730018,  88.09980051,  96.13820028,  92.71009858,\n",
       "       116.72370056,  89.10069876, 125.34580103, 114.80550033,\n",
       "       119.12039922, 152.59460303, 122.78109805, 120.02079973,\n",
       "       171.17500005, 108.23089835, 120.60970073,  87.15489851,\n",
       "        88.1655004 ,  88.22659898, 121.39660033, 154.29390189,\n",
       "       149.2744992 , 125.98479995, 126.74659984,  90.73189879,\n",
       "       158.73250021, 121.26670197, 106.69420069, 144.40659709,\n",
       "        92.70699962, 127.56710083, 117.48540077, 152.91240188,\n",
       "       119.43559962,  91.34140172,  79.77579978, 120.10040154,\n",
       "       132.10690078, 118.99899908, 127.16600065, 165.87070078,\n",
       "       153.12010063,  92.56629906, 149.23750078, 152.3390996 ,\n",
       "       112.88749999, 112.73230035,  87.17849931, 127.79749882,\n",
       "       125.18610072, 151.54900285, 114.54189988, 110.57860035,\n",
       "       161.45369778, 117.36869889, 108.5065012 , 131.59169911,\n",
       "       132.82650142, 125.34550027, 116.92569989, 149.69930169,\n",
       "       155.98309978, 168.82139476, 110.15920076, 140.42089756,\n",
       "       101.86279826, 114.90890108, 119.91150068, 123.88479989,\n",
       "       117.78630117,  92.25309991, 140.84970046, 106.84810031,\n",
       "       125.38499994,  92.40589935, 132.93960424, 125.27500033,\n",
       "       125.73950021, 126.12289842, 113.54690036, 120.40439948,\n",
       "       160.64990254,  80.6963995 , 117.87220085, 115.29440065,\n",
       "       135.67080053, 109.41350014, 108.77169918, 126.22900061,\n",
       "       127.41260033, 110.35009855, 160.25539947, 123.20299974,\n",
       "       120.78030036, 128.24129866, 147.45069798,  92.52519825,\n",
       "       124.85729952, 119.40559979, 108.68149911, 134.98179977,\n",
       "       120.99490033,  98.04539726, 115.49410003, 109.92539788,\n",
       "       126.20510008, 113.95500107, 106.88940046, 174.42539872,\n",
       "        96.44170224, 126.77489815, 112.0327982 , 112.55429967,\n",
       "       124.9125993 , 167.59919838, 114.62990021, 135.1601963 ,\n",
       "       125.69200018, 163.61760053, 120.3531998 ,  89.09939947,\n",
       "       128.04079966, 127.8026003 , 115.19039978, 122.43649861,\n",
       "       126.02970012, 167.16569781, 112.04870102, 120.02190028,\n",
       "       126.327401  , 126.75629989, 167.49019806, 160.56090002,\n",
       "       170.82530381, 121.54400095, 121.7314002 , 163.08380073,\n",
       "        98.89599913,  79.98679987, 115.77130092, 113.17470062,\n",
       "       118.60670055, 113.47030104, 120.48800012, 119.81750092,\n",
       "       104.48689962, 170.95490388, 144.17259634, 167.00479753,\n",
       "       118.15140186, 125.66730116, 126.0502002 , 166.30070006,\n",
       "       117.50940084, 133.35830368, 137.69280061, 132.89120118,\n",
       "       113.7519004 , 133.22400135, 153.94480143, 136.29499838,\n",
       "        96.24920041, 108.45720144, 124.85840034, 150.01210076,\n",
       "        99.16149991, 132.17790195, 104.07959965, 121.22159828,\n",
       "       144.23570105, 109.57270202, 127.18700001, 127.30799865,\n",
       "       113.1484009 , 139.73850297, 151.8017003 , 165.39169959,\n",
       "       119.89159973, 104.6821017 , 115.20710009, 114.13510049,\n",
       "       106.98359976, 123.98390062, 153.95050206, 128.7144006 ,\n",
       "       126.03479992, 148.8804975 , 143.05500039,  83.67689883,\n",
       "       125.02029946, 125.86330003, 124.52730187, 105.58380029,\n",
       "       169.92120284, 176.40239753,  77.43030065, 119.37730078,\n",
       "        93.21690055, 118.51689953, 125.5054013 , 117.72890022,\n",
       "       124.14640012, 153.5894995 , 151.09560204,  91.73980127,\n",
       "       131.34879728, 108.3940984 , 110.29119886, 108.75699945,\n",
       "       168.8496955 , 128.79249811, 102.6700988 , 123.47429928,\n",
       "       111.60439975,  89.95469932, 145.78569899, 121.63450025,\n",
       "       120.03330077, 103.36769892, 125.21560013,  94.39390041,\n",
       "       121.33350113, 116.23379994, 135.33169917, 124.48010091,\n",
       "       170.76820393,  83.07469875, 167.57759884, 124.80809987,\n",
       "       110.14320043, 126.05179965, 123.10019895,  83.36699863,\n",
       "       124.40379901, 113.65110042,  90.93009823, 113.20680027,\n",
       "       112.14080112, 170.49430169, 107.26249963,  91.57109988,\n",
       "       118.89649969, 109.53549867,  90.11670056,  75.57810026,\n",
       "       160.99460099, 115.39770107, 141.38290141,  96.52520057,\n",
       "       120.95600013, 151.59250046, 160.08450099, 113.67870105,\n",
       "       116.19610133, 154.37280121, 118.07369841, 151.38040089,\n",
       "       176.66609776,  87.54060051, 112.45749966, 152.93160088,\n",
       "       108.36729893, 158.7445022 , 115.242701  , 139.08129882,\n",
       "       121.87040001, 115.89689818, 114.17880093,  86.06739972,\n",
       "        75.83499794, 132.13009953, 120.73160036, 118.64880119,\n",
       "       111.67750051, 153.75050043, 153.02829952, 122.98829976,\n",
       "       140.0238007 , 152.82340148, 106.96250029,  91.97689954,\n",
       "       122.02670013, 155.01830063, 161.60299935, 156.49230297,\n",
       "        90.25179926, 135.32320386, 152.04760012, 108.69169868,\n",
       "       152.94190055,  85.1015001 , 116.89620164, 119.7420003 ,\n",
       "       128.18540355, 151.82950196, 117.51720005, 127.77000006,\n",
       "       114.55350107, 103.08449906, 114.35330004,  95.52800124,\n",
       "       167.48629808, 147.76440065,  87.27209813, 128.08920097,\n",
       "       110.93429851, 164.13090222, 121.65149907, 107.5575996 ,\n",
       "       103.28130014, 115.36489948, 112.24430104,  76.2065    ,\n",
       "        91.28019793, 122.28509924,  87.38729872, 112.27820008,\n",
       "       171.87400234, 165.20820202,  90.90409883, 139.40499944,\n",
       "        89.92730129, 118.52550062, 108.94430113, 125.55019878,\n",
       "       118.17260087, 124.09280012, 107.30340131, 131.0421994 ,\n",
       "       115.11630064, 160.1936004 , 108.25009898, 116.74769981,\n",
       "       153.7313003 , 147.1753002 ,  94.1994999 ,  90.89429892,\n",
       "       125.16729987,  87.70439883, 114.30190099, 114.6354006 ,\n",
       "       165.64659837, 121.01650075, 106.62789894, 160.59119958,\n",
       "        77.01910054, 124.48299909,  75.37260055, 124.47840009,\n",
       "       158.13920133, 130.86840295, 161.26630226, 120.68490001,\n",
       "       106.39349988, 155.29310326, 125.90029961, 156.43870061,\n",
       "       140.12739919, 131.61879905, 132.83800329, 114.31730064,\n",
       "       114.14989912, 126.64329939, 129.2443988 , 163.03190085,\n",
       "        89.87330067, 168.80909923, 111.76609914, 118.59680098,\n",
       "       135.85160135, 121.47430261, 162.64290095, 120.3254013 ,\n",
       "       114.58600068, 140.86259947, 131.95700172, 114.75693867,\n",
       "       120.24370009, 125.25009926, 124.867699  , 107.65120036,\n",
       "       104.13079927,  72.09610147, 159.47700279, 150.59720025,\n",
       "        86.28980043, 158.22530186, 153.45910338, 121.78420111,\n",
       "       114.18310125, 121.10430057, 162.26109784, 131.3389012 ,\n",
       "       118.46869977, 156.3363007 , 162.81320297, 124.50479939,\n",
       "       126.90579923, 125.7463998 , 120.05059951, 151.75310066,\n",
       "        87.27769897, 102.87709926, 132.92920275, 163.16230135,\n",
       "       131.23230194,  89.08519987, 160.96990127, 115.95690036,\n",
       "        97.26249784, 127.30499971, 140.01919985, 122.33470007,\n",
       "       119.52029932, 111.31700023,  77.82719976, 121.50320125,\n",
       "       102.59379849, 161.21129776, 117.10400071, 126.38740053,\n",
       "       126.04939968,  93.85829983, 132.73159791, 156.51730001,\n",
       "       102.96379975,  93.51410001, 126.98300086,  93.31490121,\n",
       "       113.36330016, 126.28559873, 122.56639887, 108.06379875,\n",
       "       118.97720117, 148.34829897, 148.72480256, 134.1904002 ,\n",
       "       167.76510198, 101.03049932, 117.67380059, 127.49810056,\n",
       "       114.87530136, 115.53529932, 100.59889813, 129.61549862,\n",
       "       165.1265985 , 119.1726027 ])"
      ]
     },
     "execution_count": 46,
     "metadata": {},
     "output_type": "execute_result"
    }
   ],
   "source": [
    "prediction"
   ]
  },
  {
   "cell_type": "markdown",
   "metadata": {
    "id": "HAgJOFO6QbG9"
   },
   "source": [
    "<a id=\"7.6\"></a>\n",
    "\n",
    "## <b>20<span style='color:#AB8111'>|</span> Ploting the data</b>"
   ]
  },
  {
   "cell_type": "code",
   "execution_count": 47,
   "metadata": {
    "colab": {
     "base_uri": "https://localhost:8080/",
     "height": 472
    },
    "id": "rp_T56iQNgpq",
    "outputId": "4a5130be-edbe-48e0-dfd2-c15433bcdf0a"
   },
   "outputs": [
    {
     "data": {
      "image/png": "[encoded data removed]",
      "text/plain": [
       "<Figure size 640x480 with 1 Axes>"
      ]
     },
     "metadata": {},
     "output_type": "display_data"
    }
   ],
   "source": [
    "\n",
    "y_test = np.array(y_test)\n",
    "prediction = np.array(prediction)\n",
    "\n",
    "# Create a scatter plot with a regression line\n",
    "plt.scatter(y_test, prediction, color='blue', label='Actual vs Predicted', alpha=0.7)\n",
    "plt.plot([y_test.min(), y_test.max()], [y_test.min(), y_test.max()], 'k--', lw=2, label='Perfect Prediction')\n",
    "plt.title('Actual vs Predicted Gold Prices')\n",
    "plt.xlabel('Actual Values (y_test)')\n",
    "plt.ylabel('Predicted Values (prediction)')\n",
    "plt.legend()\n",
    "plt.show()\n"
   ]
  },
  {
   "cell_type": "markdown",
   "metadata": {
    "id": "DA57biqCQlwS"
   },
   "source": [
    "<a id=\"7.5\"></a>\n",
    "\n",
    "## <b>21<span style='color:#AB8111'>|</span>Comparisons</b>"
   ]
  },
  {
   "cell_type": "code",
   "execution_count": 48,
   "metadata": {
    "colab": {
     "base_uri": "https://localhost:8080/",
     "height": 363
    },
    "id": "yciy15vfrUTu",
    "outputId": "9e32fcc9-380b-433a-f3fc-0985fb5a1243"
   },
   "outputs": [
    {
     "data": {
      "text/html": [
       "<div>\n",
       "<style scoped>\n",
       "    .dataframe tbody tr th:only-of-type {\n",
       "        vertical-align: middle;\n",
       "    }\n",
       "\n",
       "    .dataframe tbody tr th {\n",
       "        vertical-align: top;\n",
       "    }\n",
       "\n",
       "    .dataframe thead th {\n",
       "        text-align: right;\n",
       "    }\n",
       "</style>\n",
       "<table border=\"1\" class=\"dataframe\">\n",
       "  <thead>\n",
       "    <tr style=\"text-align: right;\">\n",
       "      <th></th>\n",
       "      <th>GLD</th>\n",
       "      <th>Predictions</th>\n",
       "    </tr>\n",
       "  </thead>\n",
       "  <tbody>\n",
       "    <tr>\n",
       "      <th>1832</th>\n",
       "      <td>117.110001</td>\n",
       "      <td>119.255058</td>\n",
       "    </tr>\n",
       "    <tr>\n",
       "      <th>1833</th>\n",
       "      <td>117.739998</td>\n",
       "      <td>117.657516</td>\n",
       "    </tr>\n",
       "    <tr>\n",
       "      <th>1834</th>\n",
       "      <td>119.580002</td>\n",
       "      <td>117.602531</td>\n",
       "    </tr>\n",
       "    <tr>\n",
       "      <th>1835</th>\n",
       "      <td>118.970001</td>\n",
       "      <td>119.043167</td>\n",
       "    </tr>\n",
       "    <tr>\n",
       "      <th>1836</th>\n",
       "      <td>119.419998</td>\n",
       "      <td>119.136543</td>\n",
       "    </tr>\n",
       "    <tr>\n",
       "      <th>1837</th>\n",
       "      <td>118.230003</td>\n",
       "      <td>119.431458</td>\n",
       "    </tr>\n",
       "    <tr>\n",
       "      <th>1838</th>\n",
       "      <td>118.699997</td>\n",
       "      <td>118.629097</td>\n",
       "    </tr>\n",
       "    <tr>\n",
       "      <th>1839</th>\n",
       "      <td>119.040001</td>\n",
       "      <td>118.671432</td>\n",
       "    </tr>\n",
       "    <tr>\n",
       "      <th>1840</th>\n",
       "      <td>121.290001</td>\n",
       "      <td>118.975464</td>\n",
       "    </tr>\n",
       "    <tr>\n",
       "      <th>1841</th>\n",
       "      <td>123.239998</td>\n",
       "      <td>120.758408</td>\n",
       "    </tr>\n",
       "  </tbody>\n",
       "</table>\n",
       "</div>"
      ],
      "text/plain": [
       "             GLD  Predictions\n",
       "1832  117.110001   119.255058\n",
       "1833  117.739998   117.657516\n",
       "1834  119.580002   117.602531\n",
       "1835  118.970001   119.043167\n",
       "1836  119.419998   119.136543\n",
       "1837  118.230003   119.431458\n",
       "1838  118.699997   118.629097\n",
       "1839  119.040001   118.671432\n",
       "1840  121.290001   118.975464\n",
       "1841  123.239998   120.758408"
      ]
     },
     "execution_count": 48,
     "metadata": {},
     "output_type": "execute_result"
    }
   ],
   "source": [
    "valid.head(n = 10)"
   ]
  },
  {
   "cell_type": "code",
   "execution_count": 49,
   "metadata": {
    "colab": {
     "base_uri": "https://localhost:8080/"
    },
    "id": "fI955NY8Nk3f",
    "outputId": "e3cc540e-bbae-4c3d-d283-c2be9010c1e1"
   },
   "outputs": [
    {
     "data": {
      "text/plain": [
       "458"
      ]
     },
     "execution_count": 49,
     "metadata": {},
     "output_type": "execute_result"
    }
   ],
   "source": [
    "len(prediction)"
   ]
  },
  {
   "cell_type": "code",
   "execution_count": 50,
   "metadata": {
    "colab": {
     "base_uri": "https://localhost:8080/"
    },
    "id": "B_IiAeuqsENr",
    "outputId": "5896ad6b-9f08-475e-9f72-4dc318895314"
   },
   "outputs": [
    {
     "data": {
      "text/plain": [
       "165.12659850000003"
      ]
     },
     "execution_count": 50,
     "metadata": {},
     "output_type": "execute_result"
    }
   ],
   "source": [
    "prediction[len(prediction)-2]"
   ]
  },
  {
   "cell_type": "code",
   "execution_count": 51,
   "metadata": {
    "id": "Q0RnNCqyW_YU"
   },
   "outputs": [],
   "source": [
    "from sklearn.metrics import mean_absolute_error, mean_squared_error, r2_score"
   ]
  },
  {
   "cell_type": "markdown",
   "metadata": {
    "id": "HtJb_uuMQo07"
   },
   "source": [
    "<a id=\"7.5\"></a>\n",
    "\n",
    "## <b>22<span style='color:#AB8111'>|</span>Error Scores</b>"
   ]
  },
  {
   "cell_type": "code",
   "execution_count": 52,
   "metadata": {
    "colab": {
     "base_uri": "https://localhost:8080/"
    },
    "id": "47orp_dzQNqO",
    "outputId": "368dfaa2-7530-42f1-c8eb-85089cfe5d0d"
   },
   "outputs": [
    {
     "name": "stdout",
     "output_type": "stream",
     "text": [
      "Mean Absolute Error (MAE): 1.243025318449781\n",
      "Mean Squared Error (MSE): 5.9331298702326425\n",
      "Root Mean Squared Error (RMSE): 2.4358016894305337\n",
      "R-squared (R²): 0.9887576963527407\n"
     ]
    }
   ],
   "source": [
    "mae = mean_absolute_error(y_test, prediction)\n",
    "mse = mean_squared_error(y_test, prediction)\n",
    "rmse = np.sqrt(mse)\n",
    "r2 = r2_score(y_test, prediction)\n",
    "\n",
    "print(f\"Mean Absolute Error (MAE): {mae}\")\n",
    "print(f\"Mean Squared Error (MSE): {mse}\")\n",
    "print(f\"Root Mean Squared Error (RMSE): {rmse}\")\n",
    "print(f\"R-squared (R²): {r2}\")"
   ]
  }
 ],
 "metadata": {
  "accelerator": "GPU",
  "colab": {
   "gpuType": "T4",
   "provenance": []
  },
  "kernelspec": {
   "display_name": "Python 3 (ipykernel)",
   "language": "python",
   "name": "python3"
  },
  "language_info": {
   "codemirror_mode": {
    "name": "ipython",
    "version": 3
   },
   "file_extension": ".py",
   "mimetype": "text/x-python",
   "name": "python",
   "nbconvert_exporter": "python",
   "pygments_lexer": "ipython3",
   "version": "3.10.6"
  }
 },
 "nbformat": 4,
 "nbformat_minor": 4
}
